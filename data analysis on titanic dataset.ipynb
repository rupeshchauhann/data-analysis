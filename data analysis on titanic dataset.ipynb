{
 "cells": [
  {
   "cell_type": "markdown",
   "metadata": {},
   "source": [
    "<pre>1.\tWhat is the overall survival rate of passengers on the Titanic?\n",
    "Calculate the percentage of passengers who survived.\n",
    "\n",
    "2.\tHow does survival rate vary by gender?\n",
    "Compare the survival rates between male and female passengers.\n",
    "\n",
    "3.\tDid passengers in certain passenger classes have a better chance of survival?\n",
    "Analyze the survival rates among different passenger classes (e.g., first    class, second class, third class).\n",
    "\n",
    "4.\tWhat was the survival rate among different age groups?\n",
    "Divide passengers into age groups (e.g., children, adults, seniors) and analyze their survival rates.\n",
    "\n",
    "5.\tDid passengers traveling with family members have a better chance of survival?\n",
    "Compare the survival rates of passengers traveling alone versus passengers traveling with family members.\n",
    "\n",
    "6.\tWere passengers who embarked from certain ports more likely to survive?\n",
    "Analyze the survival rates among passengers who embarked from different   ports (e.g., Southampton, Cherbourg, Queenstown).\n",
    "\n",
    "7.\tWhat was the survival rate among passengers with different titles (e.g., Mr., Mrs., Miss)?\n",
    "Extract titles from passenger names and analyze the survival rates among different titles.\n",
    "\n",
    "8.\tHow did fare prices vary among different passenger classes?\n",
    "Compare the fare prices paid by passengers in first, second, and third class.\n",
    "\n",
    "9.\tDid having a cabin affect the survival rate?\n",
    "Analyze the survival rates of passengers with and without cabins.\n",
    "\n",
    "10.\tWhat was the survival rate among passengers with missing data (e.g., missing age or cabin information)?\n",
    "Analyze the survival rates of passengers with missing data in various fields.\n",
    "\n",
    "\n",
    "</pre>"
   ]
  },
  {
   "cell_type": "code",
   "execution_count": 489,
   "metadata": {},
   "outputs": [],
   "source": [
    "import pandas as pd\n",
    "import numpy as np\n",
    "import warnings\n",
    "import matplotlib.pyplot as plt\n",
    "warnings.filterwarnings('ignore')"
   ]
  },
  {
   "cell_type": "code",
   "execution_count": 490,
   "metadata": {},
   "outputs": [],
   "source": [
    "df = pd.read_csv(r'/Users/rupeshchauhan/Downloads/Titanic-Dataset.csv')"
   ]
  },
  {
   "cell_type": "code",
   "execution_count": 491,
   "metadata": {},
   "outputs": [
    {
     "data": {
      "text/plain": [
       "Index(['PassengerId', 'Survived', 'Pclass', 'Name', 'Sex', 'Age', 'SibSp',\n",
       "       'Parch', 'Ticket', 'Fare', 'Cabin', 'Embarked'],\n",
       "      dtype='object')"
      ]
     },
     "execution_count": 491,
     "metadata": {},
     "output_type": "execute_result"
    }
   ],
   "source": [
    "df.columns"
   ]
  },
  {
   "cell_type": "code",
   "execution_count": 492,
   "metadata": {},
   "outputs": [
    {
     "data": {
      "text/plain": [
       "680"
      ]
     },
     "execution_count": 492,
     "metadata": {},
     "output_type": "execute_result"
    }
   ],
   "source": [
    "# how many passangers paid less than avg price?\n",
    "(df.Fare<(df.Fare.mean())).value_counts()[0]"
   ]
  },
  {
   "cell_type": "code",
   "execution_count": 493,
   "metadata": {},
   "outputs": [
    {
     "data": {
      "text/html": [
       "<div>\n",
       "<style scoped>\n",
       "    .dataframe tbody tr th:only-of-type {\n",
       "        vertical-align: middle;\n",
       "    }\n",
       "\n",
       "    .dataframe tbody tr th {\n",
       "        vertical-align: top;\n",
       "    }\n",
       "\n",
       "    .dataframe thead th {\n",
       "        text-align: right;\n",
       "    }\n",
       "</style>\n",
       "<table border=\"1\" class=\"dataframe\">\n",
       "  <thead>\n",
       "    <tr style=\"text-align: right;\">\n",
       "      <th></th>\n",
       "      <th>PassengerId</th>\n",
       "      <th>Survived</th>\n",
       "      <th>Pclass</th>\n",
       "      <th>Name</th>\n",
       "      <th>Sex</th>\n",
       "      <th>Age</th>\n",
       "      <th>SibSp</th>\n",
       "      <th>Parch</th>\n",
       "      <th>Ticket</th>\n",
       "      <th>Fare</th>\n",
       "      <th>Cabin</th>\n",
       "      <th>Embarked</th>\n",
       "    </tr>\n",
       "  </thead>\n",
       "  <tbody>\n",
       "    <tr>\n",
       "      <th>890</th>\n",
       "      <td>891</td>\n",
       "      <td>0</td>\n",
       "      <td>3</td>\n",
       "      <td>Dooley, Mr. Patrick</td>\n",
       "      <td>male</td>\n",
       "      <td>32.0</td>\n",
       "      <td>0</td>\n",
       "      <td>0</td>\n",
       "      <td>370376</td>\n",
       "      <td>7.75</td>\n",
       "      <td>NaN</td>\n",
       "      <td>Q</td>\n",
       "    </tr>\n",
       "  </tbody>\n",
       "</table>\n",
       "</div>"
      ],
      "text/plain": [
       "     PassengerId  Survived  Pclass                 Name   Sex   Age  SibSp  \\\n",
       "890          891         0       3  Dooley, Mr. Patrick  male  32.0      0   \n",
       "\n",
       "     Parch  Ticket  Fare Cabin Embarked  \n",
       "890      0  370376  7.75   NaN        Q  "
      ]
     },
     "execution_count": 493,
     "metadata": {},
     "output_type": "execute_result"
    }
   ],
   "source": [
    "df.tail(1)"
   ]
  },
  {
   "cell_type": "code",
   "execution_count": 494,
   "metadata": {},
   "outputs": [
    {
     "data": {
      "text/html": [
       "<div>\n",
       "<style scoped>\n",
       "    .dataframe tbody tr th:only-of-type {\n",
       "        vertical-align: middle;\n",
       "    }\n",
       "\n",
       "    .dataframe tbody tr th {\n",
       "        vertical-align: top;\n",
       "    }\n",
       "\n",
       "    .dataframe thead th {\n",
       "        text-align: right;\n",
       "    }\n",
       "</style>\n",
       "<table border=\"1\" class=\"dataframe\">\n",
       "  <thead>\n",
       "    <tr style=\"text-align: right;\">\n",
       "      <th></th>\n",
       "      <th>PassengerId</th>\n",
       "      <th>Survived</th>\n",
       "      <th>Pclass</th>\n",
       "      <th>Name</th>\n",
       "      <th>Sex</th>\n",
       "      <th>Age</th>\n",
       "      <th>SibSp</th>\n",
       "      <th>Parch</th>\n",
       "      <th>Ticket</th>\n",
       "      <th>Fare</th>\n",
       "      <th>Cabin</th>\n",
       "      <th>Embarked</th>\n",
       "    </tr>\n",
       "  </thead>\n",
       "  <tbody>\n",
       "    <tr>\n",
       "      <th>0</th>\n",
       "      <td>1</td>\n",
       "      <td>0</td>\n",
       "      <td>3</td>\n",
       "      <td>Braund, Mr. Owen Harris</td>\n",
       "      <td>male</td>\n",
       "      <td>22.0</td>\n",
       "      <td>1</td>\n",
       "      <td>0</td>\n",
       "      <td>A/5 21171</td>\n",
       "      <td>7.2500</td>\n",
       "      <td>NaN</td>\n",
       "      <td>S</td>\n",
       "    </tr>\n",
       "    <tr>\n",
       "      <th>1</th>\n",
       "      <td>2</td>\n",
       "      <td>1</td>\n",
       "      <td>1</td>\n",
       "      <td>Cumings, Mrs. John Bradley (Florence Briggs Th...</td>\n",
       "      <td>female</td>\n",
       "      <td>38.0</td>\n",
       "      <td>1</td>\n",
       "      <td>0</td>\n",
       "      <td>PC 17599</td>\n",
       "      <td>71.2833</td>\n",
       "      <td>C85</td>\n",
       "      <td>C</td>\n",
       "    </tr>\n",
       "    <tr>\n",
       "      <th>2</th>\n",
       "      <td>3</td>\n",
       "      <td>1</td>\n",
       "      <td>3</td>\n",
       "      <td>Heikkinen, Miss. Laina</td>\n",
       "      <td>female</td>\n",
       "      <td>26.0</td>\n",
       "      <td>0</td>\n",
       "      <td>0</td>\n",
       "      <td>STON/O2. 3101282</td>\n",
       "      <td>7.9250</td>\n",
       "      <td>NaN</td>\n",
       "      <td>S</td>\n",
       "    </tr>\n",
       "    <tr>\n",
       "      <th>3</th>\n",
       "      <td>4</td>\n",
       "      <td>1</td>\n",
       "      <td>1</td>\n",
       "      <td>Futrelle, Mrs. Jacques Heath (Lily May Peel)</td>\n",
       "      <td>female</td>\n",
       "      <td>35.0</td>\n",
       "      <td>1</td>\n",
       "      <td>0</td>\n",
       "      <td>113803</td>\n",
       "      <td>53.1000</td>\n",
       "      <td>C123</td>\n",
       "      <td>S</td>\n",
       "    </tr>\n",
       "    <tr>\n",
       "      <th>4</th>\n",
       "      <td>5</td>\n",
       "      <td>0</td>\n",
       "      <td>3</td>\n",
       "      <td>Allen, Mr. William Henry</td>\n",
       "      <td>male</td>\n",
       "      <td>35.0</td>\n",
       "      <td>0</td>\n",
       "      <td>0</td>\n",
       "      <td>373450</td>\n",
       "      <td>8.0500</td>\n",
       "      <td>NaN</td>\n",
       "      <td>S</td>\n",
       "    </tr>\n",
       "    <tr>\n",
       "      <th>...</th>\n",
       "      <td>...</td>\n",
       "      <td>...</td>\n",
       "      <td>...</td>\n",
       "      <td>...</td>\n",
       "      <td>...</td>\n",
       "      <td>...</td>\n",
       "      <td>...</td>\n",
       "      <td>...</td>\n",
       "      <td>...</td>\n",
       "      <td>...</td>\n",
       "      <td>...</td>\n",
       "      <td>...</td>\n",
       "    </tr>\n",
       "    <tr>\n",
       "      <th>886</th>\n",
       "      <td>887</td>\n",
       "      <td>0</td>\n",
       "      <td>2</td>\n",
       "      <td>Montvila, Rev. Juozas</td>\n",
       "      <td>male</td>\n",
       "      <td>27.0</td>\n",
       "      <td>0</td>\n",
       "      <td>0</td>\n",
       "      <td>211536</td>\n",
       "      <td>13.0000</td>\n",
       "      <td>NaN</td>\n",
       "      <td>S</td>\n",
       "    </tr>\n",
       "    <tr>\n",
       "      <th>887</th>\n",
       "      <td>888</td>\n",
       "      <td>1</td>\n",
       "      <td>1</td>\n",
       "      <td>Graham, Miss. Margaret Edith</td>\n",
       "      <td>female</td>\n",
       "      <td>19.0</td>\n",
       "      <td>0</td>\n",
       "      <td>0</td>\n",
       "      <td>112053</td>\n",
       "      <td>30.0000</td>\n",
       "      <td>B42</td>\n",
       "      <td>S</td>\n",
       "    </tr>\n",
       "    <tr>\n",
       "      <th>888</th>\n",
       "      <td>889</td>\n",
       "      <td>0</td>\n",
       "      <td>3</td>\n",
       "      <td>Johnston, Miss. Catherine Helen \"Carrie\"</td>\n",
       "      <td>female</td>\n",
       "      <td>NaN</td>\n",
       "      <td>1</td>\n",
       "      <td>2</td>\n",
       "      <td>W./C. 6607</td>\n",
       "      <td>23.4500</td>\n",
       "      <td>NaN</td>\n",
       "      <td>S</td>\n",
       "    </tr>\n",
       "    <tr>\n",
       "      <th>889</th>\n",
       "      <td>890</td>\n",
       "      <td>1</td>\n",
       "      <td>1</td>\n",
       "      <td>Behr, Mr. Karl Howell</td>\n",
       "      <td>male</td>\n",
       "      <td>26.0</td>\n",
       "      <td>0</td>\n",
       "      <td>0</td>\n",
       "      <td>111369</td>\n",
       "      <td>30.0000</td>\n",
       "      <td>C148</td>\n",
       "      <td>C</td>\n",
       "    </tr>\n",
       "    <tr>\n",
       "      <th>890</th>\n",
       "      <td>891</td>\n",
       "      <td>0</td>\n",
       "      <td>3</td>\n",
       "      <td>Dooley, Mr. Patrick</td>\n",
       "      <td>male</td>\n",
       "      <td>32.0</td>\n",
       "      <td>0</td>\n",
       "      <td>0</td>\n",
       "      <td>370376</td>\n",
       "      <td>7.7500</td>\n",
       "      <td>NaN</td>\n",
       "      <td>Q</td>\n",
       "    </tr>\n",
       "  </tbody>\n",
       "</table>\n",
       "<p>891 rows × 12 columns</p>\n",
       "</div>"
      ],
      "text/plain": [
       "     PassengerId  Survived  Pclass  \\\n",
       "0              1         0       3   \n",
       "1              2         1       1   \n",
       "2              3         1       3   \n",
       "3              4         1       1   \n",
       "4              5         0       3   \n",
       "..           ...       ...     ...   \n",
       "886          887         0       2   \n",
       "887          888         1       1   \n",
       "888          889         0       3   \n",
       "889          890         1       1   \n",
       "890          891         0       3   \n",
       "\n",
       "                                                  Name     Sex   Age  SibSp  \\\n",
       "0                              Braund, Mr. Owen Harris    male  22.0      1   \n",
       "1    Cumings, Mrs. John Bradley (Florence Briggs Th...  female  38.0      1   \n",
       "2                               Heikkinen, Miss. Laina  female  26.0      0   \n",
       "3         Futrelle, Mrs. Jacques Heath (Lily May Peel)  female  35.0      1   \n",
       "4                             Allen, Mr. William Henry    male  35.0      0   \n",
       "..                                                 ...     ...   ...    ...   \n",
       "886                              Montvila, Rev. Juozas    male  27.0      0   \n",
       "887                       Graham, Miss. Margaret Edith  female  19.0      0   \n",
       "888           Johnston, Miss. Catherine Helen \"Carrie\"  female   NaN      1   \n",
       "889                              Behr, Mr. Karl Howell    male  26.0      0   \n",
       "890                                Dooley, Mr. Patrick    male  32.0      0   \n",
       "\n",
       "     Parch            Ticket     Fare Cabin Embarked  \n",
       "0        0         A/5 21171   7.2500   NaN        S  \n",
       "1        0          PC 17599  71.2833   C85        C  \n",
       "2        0  STON/O2. 3101282   7.9250   NaN        S  \n",
       "3        0            113803  53.1000  C123        S  \n",
       "4        0            373450   8.0500   NaN        S  \n",
       "..     ...               ...      ...   ...      ...  \n",
       "886      0            211536  13.0000   NaN        S  \n",
       "887      0            112053  30.0000   B42        S  \n",
       "888      2        W./C. 6607  23.4500   NaN        S  \n",
       "889      0            111369  30.0000  C148        C  \n",
       "890      0            370376   7.7500   NaN        Q  \n",
       "\n",
       "[891 rows x 12 columns]"
      ]
     },
     "execution_count": 494,
     "metadata": {},
     "output_type": "execute_result"
    }
   ],
   "source": [
    "df"
   ]
  },
  {
   "cell_type": "code",
   "execution_count": 495,
   "metadata": {},
   "outputs": [
    {
     "data": {
      "text/plain": [
       "15"
      ]
     },
     "execution_count": 495,
     "metadata": {},
     "output_type": "execute_result"
    }
   ],
   "source": [
    "#  how many passengers paid 0 fare\n",
    "len(df[df.Fare == 0])"
   ]
  },
  {
   "cell_type": "code",
   "execution_count": 496,
   "metadata": {},
   "outputs": [
    {
     "name": "stdout",
     "output_type": "stream",
     "text": [
      "Male are  : 577\n",
      "Female are: 314\n"
     ]
    }
   ],
   "source": [
    "# how many male and female passengers are there\n",
    "print(\"Male are  :\",df.Sex.value_counts()[0])\n",
    "print(\"Female are:\",df.Sex.value_counts()[1])"
   ]
  },
  {
   "cell_type": "code",
   "execution_count": 497,
   "metadata": {},
   "outputs": [
    {
     "data": {
      "text/plain": [
       "Sex\n",
       "male      0.647587\n",
       "female    0.352413\n",
       "Name: proportion, dtype: float64"
      ]
     },
     "execution_count": 497,
     "metadata": {},
     "output_type": "execute_result"
    }
   ],
   "source": [
    "df.Sex.value_counts(normalize=True) "
   ]
  },
  {
   "cell_type": "code",
   "execution_count": 498,
   "metadata": {},
   "outputs": [
    {
     "data": {
      "text/plain": [
       "0.352413"
      ]
     },
     "execution_count": 498,
     "metadata": {},
     "output_type": "execute_result"
    }
   ],
   "source": [
    "1 - 0.647587"
   ]
  },
  {
   "cell_type": "code",
   "execution_count": 499,
   "metadata": {},
   "outputs": [
    {
     "data": {
      "text/plain": [
       "Index(['PassengerId', 'Survived', 'Pclass', 'Name', 'Sex', 'Age', 'SibSp',\n",
       "       'Parch', 'Ticket', 'Fare', 'Cabin', 'Embarked'],\n",
       "      dtype='object')"
      ]
     },
     "execution_count": 499,
     "metadata": {},
     "output_type": "execute_result"
    }
   ],
   "source": [
    "df.columns"
   ]
  },
  {
   "cell_type": "code",
   "execution_count": 500,
   "metadata": {},
   "outputs": [
    {
     "data": {
      "text/plain": [
       "38.38383838383838"
      ]
     },
     "execution_count": 500,
     "metadata": {},
     "output_type": "execute_result"
    }
   ],
   "source": [
    "# What is the overall survival rate of passengers on the Titanic?\n",
    "(sum(df[df.Survived==1].Survived)/len(df.Survived) )*100"
   ]
  },
  {
   "cell_type": "code",
   "execution_count": 501,
   "metadata": {},
   "outputs": [
    {
     "data": {
      "text/plain": [
       "38.38383838383838"
      ]
     },
     "execution_count": 501,
     "metadata": {},
     "output_type": "execute_result"
    }
   ],
   "source": [
    "(sum(df[df.Survived == 1].Survived)/df.Survived.value_counts().sum())*100"
   ]
  },
  {
   "cell_type": "code",
   "execution_count": 502,
   "metadata": {},
   "outputs": [
    {
     "data": {
      "text/plain": [
       "Survived\n",
       "0    549\n",
       "1    342\n",
       "Name: count, dtype: int64"
      ]
     },
     "execution_count": 502,
     "metadata": {},
     "output_type": "execute_result"
    }
   ],
   "source": [
    "df.Survived.value_counts()"
   ]
  },
  {
   "cell_type": "code",
   "execution_count": 503,
   "metadata": {},
   "outputs": [],
   "source": [
    "# How does survival rate vary by gender?\n",
    "malealive = (sum(df[df.Sex=='male'].Survived==1)/len(df[df.Sex=='male'].Survived))*100"
   ]
  },
  {
   "cell_type": "code",
   "execution_count": 504,
   "metadata": {},
   "outputs": [],
   "source": [
    "maledied= (sum(df[df.Sex=='male'].Survived==0)/len(df[df.Sex=='male'].Survived))*100"
   ]
  },
  {
   "cell_type": "code",
   "execution_count": 505,
   "metadata": {},
   "outputs": [],
   "source": [
    "femalealive = (sum(df[df.Sex=='female'].Survived==1)/len(df[df.Sex=='female'].Survived))*100"
   ]
  },
  {
   "cell_type": "code",
   "execution_count": 506,
   "metadata": {},
   "outputs": [],
   "source": [
    "femaledied = (sum(df[df.Sex=='female'].Survived==0)/len(df[df.Sex=='female'].Survived))*100"
   ]
  },
  {
   "cell_type": "code",
   "execution_count": null,
   "metadata": {},
   "outputs": [],
   "source": []
  },
  {
   "cell_type": "code",
   "execution_count": 507,
   "metadata": {},
   "outputs": [
    {
     "data": {
      "text/html": [
       "<div>\n",
       "<style scoped>\n",
       "    .dataframe tbody tr th:only-of-type {\n",
       "        vertical-align: middle;\n",
       "    }\n",
       "\n",
       "    .dataframe tbody tr th {\n",
       "        vertical-align: top;\n",
       "    }\n",
       "\n",
       "    .dataframe thead th {\n",
       "        text-align: right;\n",
       "    }\n",
       "</style>\n",
       "<table border=\"1\" class=\"dataframe\">\n",
       "  <thead>\n",
       "    <tr style=\"text-align: right;\">\n",
       "      <th></th>\n",
       "      <th>malealive</th>\n",
       "      <th>maledies</th>\n",
       "      <th>femalealive</th>\n",
       "      <th>femaledied</th>\n",
       "    </tr>\n",
       "  </thead>\n",
       "  <tbody>\n",
       "    <tr>\n",
       "      <th>%</th>\n",
       "      <td>18.890815</td>\n",
       "      <td>81.109185</td>\n",
       "      <td>74.203822</td>\n",
       "      <td>25.796178</td>\n",
       "    </tr>\n",
       "  </tbody>\n",
       "</table>\n",
       "</div>"
      ],
      "text/plain": [
       "   malealive   maledies  femalealive  femaledied\n",
       "%  18.890815  81.109185    74.203822   25.796178"
      ]
     },
     "execution_count": 507,
     "metadata": {},
     "output_type": "execute_result"
    }
   ],
   "source": [
    "pd.DataFrame({'malealive':malealive,'maledies':maledied,'femalealive':femalealive,'femaledied':femaledied},index=['%'])"
   ]
  },
  {
   "cell_type": "code",
   "execution_count": 508,
   "metadata": {},
   "outputs": [
    {
     "data": {
      "text/plain": [
       "Pclass\n",
       "3    491\n",
       "1    216\n",
       "2    184\n",
       "Name: count, dtype: int64"
      ]
     },
     "execution_count": 508,
     "metadata": {},
     "output_type": "execute_result"
    }
   ],
   "source": [
    "# Did passengers in certain passenger classes have a better chance of survival?\n",
    "df.Pclass.value_counts()"
   ]
  },
  {
   "cell_type": "code",
   "execution_count": 509,
   "metadata": {},
   "outputs": [
    {
     "name": "stdout",
     "output_type": "stream",
     "text": [
      "pclass 1 survived 1 62.96296296296296\n"
     ]
    }
   ],
   "source": [
    "print('pclass 1 survived 1',(sum(df[(df['Pclass'] == 1) & (df['Survived'] == 1)].Survived)/len(df[(df['Pclass'] == 1)].Pclass))*100)\n",
    "# print('pclass 1 survived 0',(sum(df[(df['Pclass'] == 1) & (df['Survived'] == 0)].Survived)/len(df[(df['Pclass'] == 1)].Pclass))*100)"
   ]
  },
  {
   "cell_type": "code",
   "execution_count": 510,
   "metadata": {},
   "outputs": [
    {
     "name": "stdout",
     "output_type": "stream",
     "text": [
      "pclass 1 survived 1 47.28260869565217\n"
     ]
    }
   ],
   "source": [
    "print('pclass 1 survived 1',(sum(df[(df['Pclass'] == 2) & (df['Survived'] == 1)].Survived)/len(df[(df['Pclass'] == 2)].Pclass))*100)\n",
    "# print('pclass 1 survived 0',(sum(df[(df['Pclass'] == 2) & (df['Survived'] == 0)].Survived)/len(df[(df['Pclass'] == 2)].Pclass))*100)"
   ]
  },
  {
   "cell_type": "code",
   "execution_count": 511,
   "metadata": {},
   "outputs": [
    {
     "name": "stdout",
     "output_type": "stream",
     "text": [
      "pclass 1 survived 1 24.236252545824847\n"
     ]
    }
   ],
   "source": [
    "print('pclass 1 survived 1',(sum(df[(df['Pclass'] == 3) & (df['Survived'] == 1)].Survived)/len(df[(df['Pclass'] == 3)].Pclass))*100)"
   ]
  },
  {
   "cell_type": "code",
   "execution_count": 512,
   "metadata": {},
   "outputs": [
    {
     "data": {
      "text/plain": [
       "8.078750848608282"
      ]
     },
     "execution_count": 512,
     "metadata": {},
     "output_type": "execute_result"
    }
   ],
   "source": [
    "(sum(df[df.Pclass == 3].Survived ==1)/sum((df[df.Pclass == 3].Pclass)))*100"
   ]
  },
  {
   "cell_type": "code",
   "execution_count": 513,
   "metadata": {},
   "outputs": [
    {
     "data": {
      "text/plain": [
       "8.078750848608282"
      ]
     },
     "execution_count": 513,
     "metadata": {},
     "output_type": "execute_result"
    }
   ],
   "source": [
    "(119/1473)*100"
   ]
  },
  {
   "cell_type": "code",
   "execution_count": 514,
   "metadata": {},
   "outputs": [
    {
     "data": {
      "text/plain": [
       "Pclass  Survived\n",
       "1       1           62.962963\n",
       "        0           37.037037\n",
       "2       0           52.717391\n",
       "        1           47.282609\n",
       "3       0           75.763747\n",
       "        1           24.236253\n",
       "Name: proportion, dtype: float64"
      ]
     },
     "execution_count": 514,
     "metadata": {},
     "output_type": "execute_result"
    }
   ],
   "source": [
    "df.groupby('Pclass')['Survived'].value_counts(normalize=True)*100"
   ]
  },
  {
   "cell_type": "code",
   "execution_count": 515,
   "metadata": {},
   "outputs": [
    {
     "name": "stdout",
     "output_type": "stream",
     "text": [
      "Age group 1 to 19 teen survived % 100.0\n"
     ]
    }
   ],
   "source": [
    "# Divide passengers into age groups (e.g., children, adults, seniors) and analyze their survival rates.\n",
    "# childrens and teenAge\n",
    "print('Age group 1 to 19 teen survived %',\n",
    "(sum(df[(df['Age'] < 20) & (df['Survived'] == 1)].Survived)/len(df[(df['Age'] < 20) & (df['Survived'] == 1)].Age))*100)"
   ]
  },
  {
   "cell_type": "code",
   "execution_count": 516,
   "metadata": {},
   "outputs": [
    {
     "name": "stdout",
     "output_type": "stream",
     "text": [
      "Age group 1 to 19 teen survived % 16.08961303462322\n"
     ]
    }
   ],
   "source": [
    "# Adults\n",
    "print('Age group 1 to 19 teen survived %',\n",
    "(sum(df[(df['Age'] < 20) & (df['Survived'] == 1)].Survived)/len(df[(df['Pclass'] == 3)].Pclass))*100)"
   ]
  },
  {
   "cell_type": "code",
   "execution_count": 517,
   "metadata": {},
   "outputs": [
    {
     "data": {
      "text/plain": [
       "Index(['PassengerId', 'Survived', 'Pclass', 'Name', 'Sex', 'Age', 'SibSp',\n",
       "       'Parch', 'Ticket', 'Fare', 'Cabin', 'Embarked'],\n",
       "      dtype='object')"
      ]
     },
     "execution_count": 517,
     "metadata": {},
     "output_type": "execute_result"
    }
   ],
   "source": [
    "df.columns"
   ]
  },
  {
   "cell_type": "code",
   "execution_count": 518,
   "metadata": {},
   "outputs": [
    {
     "data": {
      "text/plain": [
       "Survived\n",
       "1    63\n",
       "Name: count, dtype: int64"
      ]
     },
     "execution_count": 518,
     "metadata": {},
     "output_type": "execute_result"
    }
   ],
   "source": [
    "child = df[(df['Age'].between(1, 18) & (df['Survived'] == 1))]\n",
    "child.Survived.value_counts()\n",
    "\n",
    "#  because we dont have any count for 0 means all the people between 1 to 18 age they survived."
   ]
  },
  {
   "cell_type": "code",
   "execution_count": 519,
   "metadata": {},
   "outputs": [
    {
     "data": {
      "text/plain": [
       "Age   Survived\n",
       "1.0   1           100.0\n",
       "2.0   1           100.0\n",
       "3.0   1           100.0\n",
       "4.0   1           100.0\n",
       "5.0   1           100.0\n",
       "6.0   1           100.0\n",
       "7.0   1           100.0\n",
       "8.0   1           100.0\n",
       "9.0   1           100.0\n",
       "11.0  1           100.0\n",
       "12.0  1           100.0\n",
       "13.0  1           100.0\n",
       "14.0  1           100.0\n",
       "15.0  1           100.0\n",
       "16.0  1           100.0\n",
       "17.0  1           100.0\n",
       "18.0  1           100.0\n",
       "Name: proportion, dtype: float64"
      ]
     },
     "execution_count": 519,
     "metadata": {},
     "output_type": "execute_result"
    }
   ],
   "source": [
    "child.groupby('Age')['Survived'].value_counts(normalize=True)*100"
   ]
  },
  {
   "cell_type": "code",
   "execution_count": 520,
   "metadata": {},
   "outputs": [],
   "source": [
    "# there is 100% chance of survival"
   ]
  },
  {
   "cell_type": "code",
   "execution_count": 521,
   "metadata": {},
   "outputs": [
    {
     "data": {
      "text/html": [
       "<div>\n",
       "<style scoped>\n",
       "    .dataframe tbody tr th:only-of-type {\n",
       "        vertical-align: middle;\n",
       "    }\n",
       "\n",
       "    .dataframe tbody tr th {\n",
       "        vertical-align: top;\n",
       "    }\n",
       "\n",
       "    .dataframe thead th {\n",
       "        text-align: right;\n",
       "    }\n",
       "</style>\n",
       "<table border=\"1\" class=\"dataframe\">\n",
       "  <thead>\n",
       "    <tr style=\"text-align: right;\">\n",
       "      <th></th>\n",
       "      <th>PassengerId</th>\n",
       "      <th>Survived</th>\n",
       "      <th>Pclass</th>\n",
       "      <th>Name</th>\n",
       "      <th>Sex</th>\n",
       "      <th>Age</th>\n",
       "      <th>SibSp</th>\n",
       "      <th>Parch</th>\n",
       "      <th>Ticket</th>\n",
       "      <th>Fare</th>\n",
       "      <th>Cabin</th>\n",
       "      <th>Embarked</th>\n",
       "    </tr>\n",
       "  </thead>\n",
       "  <tbody>\n",
       "    <tr>\n",
       "      <th>0</th>\n",
       "      <td>1</td>\n",
       "      <td>0</td>\n",
       "      <td>3</td>\n",
       "      <td>Braund, Mr. Owen Harris</td>\n",
       "      <td>male</td>\n",
       "      <td>22.0</td>\n",
       "      <td>1</td>\n",
       "      <td>0</td>\n",
       "      <td>A/5 21171</td>\n",
       "      <td>7.2500</td>\n",
       "      <td>NaN</td>\n",
       "      <td>S</td>\n",
       "    </tr>\n",
       "    <tr>\n",
       "      <th>1</th>\n",
       "      <td>2</td>\n",
       "      <td>1</td>\n",
       "      <td>1</td>\n",
       "      <td>Cumings, Mrs. John Bradley (Florence Briggs Th...</td>\n",
       "      <td>female</td>\n",
       "      <td>38.0</td>\n",
       "      <td>1</td>\n",
       "      <td>0</td>\n",
       "      <td>PC 17599</td>\n",
       "      <td>71.2833</td>\n",
       "      <td>C85</td>\n",
       "      <td>C</td>\n",
       "    </tr>\n",
       "    <tr>\n",
       "      <th>2</th>\n",
       "      <td>3</td>\n",
       "      <td>1</td>\n",
       "      <td>3</td>\n",
       "      <td>Heikkinen, Miss. Laina</td>\n",
       "      <td>female</td>\n",
       "      <td>26.0</td>\n",
       "      <td>0</td>\n",
       "      <td>0</td>\n",
       "      <td>STON/O2. 3101282</td>\n",
       "      <td>7.9250</td>\n",
       "      <td>NaN</td>\n",
       "      <td>S</td>\n",
       "    </tr>\n",
       "    <tr>\n",
       "      <th>3</th>\n",
       "      <td>4</td>\n",
       "      <td>1</td>\n",
       "      <td>1</td>\n",
       "      <td>Futrelle, Mrs. Jacques Heath (Lily May Peel)</td>\n",
       "      <td>female</td>\n",
       "      <td>35.0</td>\n",
       "      <td>1</td>\n",
       "      <td>0</td>\n",
       "      <td>113803</td>\n",
       "      <td>53.1000</td>\n",
       "      <td>C123</td>\n",
       "      <td>S</td>\n",
       "    </tr>\n",
       "    <tr>\n",
       "      <th>4</th>\n",
       "      <td>5</td>\n",
       "      <td>0</td>\n",
       "      <td>3</td>\n",
       "      <td>Allen, Mr. William Henry</td>\n",
       "      <td>male</td>\n",
       "      <td>35.0</td>\n",
       "      <td>0</td>\n",
       "      <td>0</td>\n",
       "      <td>373450</td>\n",
       "      <td>8.0500</td>\n",
       "      <td>NaN</td>\n",
       "      <td>S</td>\n",
       "    </tr>\n",
       "    <tr>\n",
       "      <th>...</th>\n",
       "      <td>...</td>\n",
       "      <td>...</td>\n",
       "      <td>...</td>\n",
       "      <td>...</td>\n",
       "      <td>...</td>\n",
       "      <td>...</td>\n",
       "      <td>...</td>\n",
       "      <td>...</td>\n",
       "      <td>...</td>\n",
       "      <td>...</td>\n",
       "      <td>...</td>\n",
       "      <td>...</td>\n",
       "    </tr>\n",
       "    <tr>\n",
       "      <th>884</th>\n",
       "      <td>885</td>\n",
       "      <td>0</td>\n",
       "      <td>3</td>\n",
       "      <td>Sutehall, Mr. Henry Jr</td>\n",
       "      <td>male</td>\n",
       "      <td>25.0</td>\n",
       "      <td>0</td>\n",
       "      <td>0</td>\n",
       "      <td>SOTON/OQ 392076</td>\n",
       "      <td>7.0500</td>\n",
       "      <td>NaN</td>\n",
       "      <td>S</td>\n",
       "    </tr>\n",
       "    <tr>\n",
       "      <th>885</th>\n",
       "      <td>886</td>\n",
       "      <td>0</td>\n",
       "      <td>3</td>\n",
       "      <td>Rice, Mrs. William (Margaret Norton)</td>\n",
       "      <td>female</td>\n",
       "      <td>39.0</td>\n",
       "      <td>0</td>\n",
       "      <td>5</td>\n",
       "      <td>382652</td>\n",
       "      <td>29.1250</td>\n",
       "      <td>NaN</td>\n",
       "      <td>Q</td>\n",
       "    </tr>\n",
       "    <tr>\n",
       "      <th>886</th>\n",
       "      <td>887</td>\n",
       "      <td>0</td>\n",
       "      <td>2</td>\n",
       "      <td>Montvila, Rev. Juozas</td>\n",
       "      <td>male</td>\n",
       "      <td>27.0</td>\n",
       "      <td>0</td>\n",
       "      <td>0</td>\n",
       "      <td>211536</td>\n",
       "      <td>13.0000</td>\n",
       "      <td>NaN</td>\n",
       "      <td>S</td>\n",
       "    </tr>\n",
       "    <tr>\n",
       "      <th>889</th>\n",
       "      <td>890</td>\n",
       "      <td>1</td>\n",
       "      <td>1</td>\n",
       "      <td>Behr, Mr. Karl Howell</td>\n",
       "      <td>male</td>\n",
       "      <td>26.0</td>\n",
       "      <td>0</td>\n",
       "      <td>0</td>\n",
       "      <td>111369</td>\n",
       "      <td>30.0000</td>\n",
       "      <td>C148</td>\n",
       "      <td>C</td>\n",
       "    </tr>\n",
       "    <tr>\n",
       "      <th>890</th>\n",
       "      <td>891</td>\n",
       "      <td>0</td>\n",
       "      <td>3</td>\n",
       "      <td>Dooley, Mr. Patrick</td>\n",
       "      <td>male</td>\n",
       "      <td>32.0</td>\n",
       "      <td>0</td>\n",
       "      <td>0</td>\n",
       "      <td>370376</td>\n",
       "      <td>7.7500</td>\n",
       "      <td>NaN</td>\n",
       "      <td>Q</td>\n",
       "    </tr>\n",
       "  </tbody>\n",
       "</table>\n",
       "<p>486 rows × 12 columns</p>\n",
       "</div>"
      ],
      "text/plain": [
       "     PassengerId  Survived  Pclass  \\\n",
       "0              1         0       3   \n",
       "1              2         1       1   \n",
       "2              3         1       3   \n",
       "3              4         1       1   \n",
       "4              5         0       3   \n",
       "..           ...       ...     ...   \n",
       "884          885         0       3   \n",
       "885          886         0       3   \n",
       "886          887         0       2   \n",
       "889          890         1       1   \n",
       "890          891         0       3   \n",
       "\n",
       "                                                  Name     Sex   Age  SibSp  \\\n",
       "0                              Braund, Mr. Owen Harris    male  22.0      1   \n",
       "1    Cumings, Mrs. John Bradley (Florence Briggs Th...  female  38.0      1   \n",
       "2                               Heikkinen, Miss. Laina  female  26.0      0   \n",
       "3         Futrelle, Mrs. Jacques Heath (Lily May Peel)  female  35.0      1   \n",
       "4                             Allen, Mr. William Henry    male  35.0      0   \n",
       "..                                                 ...     ...   ...    ...   \n",
       "884                             Sutehall, Mr. Henry Jr    male  25.0      0   \n",
       "885               Rice, Mrs. William (Margaret Norton)  female  39.0      0   \n",
       "886                              Montvila, Rev. Juozas    male  27.0      0   \n",
       "889                              Behr, Mr. Karl Howell    male  26.0      0   \n",
       "890                                Dooley, Mr. Patrick    male  32.0      0   \n",
       "\n",
       "     Parch            Ticket     Fare Cabin Embarked  \n",
       "0        0         A/5 21171   7.2500   NaN        S  \n",
       "1        0          PC 17599  71.2833   C85        C  \n",
       "2        0  STON/O2. 3101282   7.9250   NaN        S  \n",
       "3        0            113803  53.1000  C123        S  \n",
       "4        0            373450   8.0500   NaN        S  \n",
       "..     ...               ...      ...   ...      ...  \n",
       "884      0   SOTON/OQ 392076   7.0500   NaN        S  \n",
       "885      5            382652  29.1250   NaN        Q  \n",
       "886      0            211536  13.0000   NaN        S  \n",
       "889      0            111369  30.0000  C148        C  \n",
       "890      0            370376   7.7500   NaN        Q  \n",
       "\n",
       "[486 rows x 12 columns]"
      ]
     },
     "execution_count": 521,
     "metadata": {},
     "output_type": "execute_result"
    }
   ],
   "source": [
    "adults = df[df['Age'].between(20, 50)]# & (df['Survived'] == 1))]# & (df['Age'] == 1)]\n",
    "adults"
   ]
  },
  {
   "cell_type": "code",
   "execution_count": 522,
   "metadata": {},
   "outputs": [
    {
     "data": {
      "text/plain": [
       "Age   Survived\n",
       "20.0  0           0.800000\n",
       "      1           0.200000\n",
       "20.5  0           1.000000\n",
       "21.0  0           0.791667\n",
       "      1           0.208333\n",
       "                    ...   \n",
       "48.0  0           0.333333\n",
       "49.0  1           0.666667\n",
       "      0           0.333333\n",
       "50.0  0           0.500000\n",
       "      1           0.500000\n",
       "Name: proportion, Length: 72, dtype: float64"
      ]
     },
     "execution_count": 522,
     "metadata": {},
     "output_type": "execute_result"
    }
   ],
   "source": [
    "adults.groupby('Age')['Survived'].value_counts(normalize=True)"
   ]
  },
  {
   "cell_type": "code",
   "execution_count": 523,
   "metadata": {},
   "outputs": [
    {
     "data": {
      "text/plain": [
       "Age    Survived\n",
       "0.42   1           1.0\n",
       "0.67   1           1.0\n",
       "0.75   1           1.0\n",
       "0.83   1           1.0\n",
       "0.92   1           1.0\n",
       "                  ... \n",
       "70.00  0           1.0\n",
       "70.50  0           1.0\n",
       "71.00  0           1.0\n",
       "74.00  0           1.0\n",
       "80.00  1           1.0\n",
       "Name: proportion, Length: 142, dtype: float64"
      ]
     },
     "execution_count": 523,
     "metadata": {},
     "output_type": "execute_result"
    }
   ],
   "source": [
    "seniors = df[(df['Age']>50 & (df['Survived'] == 1))] \n",
    "seniors.groupby('Age')['Survived'].value_counts(normalize=True)"
   ]
  },
  {
   "cell_type": "code",
   "execution_count": 524,
   "metadata": {},
   "outputs": [
    {
     "data": {
      "image/png": "[encoded data removed]",
      "text/plain": [
       "<Figure size 1000x600 with 1 Axes>"
      ]
     },
     "metadata": {},
     "output_type": "display_data"
    }
   ],
   "source": [
    "import pandas as pd\n",
    "import seaborn as sns\n",
    "import matplotlib.pyplot as plt\n",
    "\n",
    "# Assuming you already have loaded your Titanic dataset into a DataFrame named 'df'\n",
    "\n",
    "# Filter out individuals aged 50 or older\n",
    "seniors = df[df['Age'] >= 50]\n",
    "\n",
    "# Group by age and calculate survival ratio\n",
    "survival_ratio = seniors.groupby('Age')['Survived'].value_counts(normalize=True).unstack().fillna(0)\n",
    "\n",
    "# Reset index and reshape data for Seaborn\n",
    "survival_ratio.reset_index(inplace=True)\n",
    "survival_ratio = survival_ratio.melt(id_vars=['Age'], value_vars=[0, 1], var_name='Survived', value_name='Survival Ratio')\n",
    "\n",
    "# Enlarge the figure\n",
    "plt.figure(figsize=(10, 6))\n",
    "\n",
    "# Plot the survival ratio using Seaborn\n",
    "sns.barplot(data=survival_ratio, x='Age', y='Survival Ratio', hue='Survived', palette='pastel')\n",
    "plt.title('Survival Ratio of Seniors (Age 50+) on Titanic')\n",
    "plt.xlabel('Age')\n",
    "plt.ylabel('Survival Ratio %')\n",
    "plt.legend(['Not Survived', 'Survived'], loc='upper right')\n",
    "plt.xticks(rotation=25)\n",
    "plt.show()"
   ]
  },
  {
   "cell_type": "markdown",
   "metadata": {},
   "source": [
    "#### Did passengers traveling with family members have a better chance of survival?"
   ]
  },
  {
   "cell_type": "code",
   "execution_count": 525,
   "metadata": {},
   "outputs": [
    {
     "data": {
      "text/plain": [
       "SibSp\n",
       "0    608\n",
       "1    209\n",
       "2     28\n",
       "4     18\n",
       "3     16\n",
       "8      7\n",
       "5      5\n",
       "Name: count, dtype: int64"
      ]
     },
     "execution_count": 525,
     "metadata": {},
     "output_type": "execute_result"
    }
   ],
   "source": [
    "df.SibSp.value_counts()"
   ]
  },
  {
   "cell_type": "code",
   "execution_count": 526,
   "metadata": {},
   "outputs": [
    {
     "data": {
      "text/plain": [
       "SibSp  Survived\n",
       "0      0            65.460526\n",
       "       1            34.539474\n",
       "1      1            53.588517\n",
       "       0            46.411483\n",
       "2      0            53.571429\n",
       "       1            46.428571\n",
       "3      0            75.000000\n",
       "       1            25.000000\n",
       "4      0            83.333333\n",
       "       1            16.666667\n",
       "5      0           100.000000\n",
       "8      0           100.000000\n",
       "Name: proportion, dtype: float64"
      ]
     },
     "execution_count": 526,
     "metadata": {},
     "output_type": "execute_result"
    }
   ],
   "source": [
    "df.groupby('SibSp')['Survived'].value_counts(normalize=True)*100"
   ]
  },
  {
   "cell_type": "code",
   "execution_count": 527,
   "metadata": {},
   "outputs": [
    {
     "data": {
      "image/png": "[encoded data removed]",
      "text/plain": [
       "<Figure size 1000x600 with 1 Axes>"
      ]
     },
     "metadata": {},
     "output_type": "display_data"
    }
   ],
   "source": [
    "import pandas as pd\n",
    "import seaborn as sns\n",
    "import matplotlib.pyplot as plt\n",
    "\n",
    "# Assuming you already have loaded your Titanic dataset into a DataFrame named 'df'\n",
    "\n",
    "# Filter out individuals aged 50 or older\n",
    "# seniors = df[df['Age'] >= 50]\n",
    "\n",
    "# Group by age and calculate survival ratio\n",
    "survival_ratio = df.groupby('SibSp')['Survived'].value_counts(normalize=True).unstack().fillna(0)\n",
    "\n",
    "# Reset index and reshape data for Seaborn\n",
    "survival_ratio.reset_index(inplace=True)\n",
    "survival_ratio = survival_ratio.melt(id_vars=['SibSp'], value_vars=[0, 1], var_name='Survived', value_name='Survival Ratio')\n",
    "\n",
    "# Enlarge the figure\n",
    "plt.figure(figsize=(10, 6))\n",
    "\n",
    "# Plot the survival ratio using Seaborn\n",
    "sns.barplot(data=survival_ratio, x='SibSp', y='Survival Ratio', hue='Survived', palette='pastel',legend='auto')\n",
    "plt.title('Survival Ratio of Seniors (Age 50+) on Titanic')\n",
    "plt.xlabel('Age')\n",
    "plt.ylabel('Survival Ratio %')\n",
    "plt.legend(['Not Survived', 'Survived'], loc='upper right', facecolor='lightgrey')  # Changing legend facecolor\n",
    "plt.xticks(rotation=25)\n",
    "plt.show()\n"
   ]
  },
  {
   "cell_type": "markdown",
   "metadata": {},
   "source": [
    "6.\tWere passengers who embarked from certain ports more likely to survive?\n",
    "-  Analyze the survival rates among passengers who embarked from different   ports (e.g., Southampton, Cherbourg, Queenstown)."
   ]
  },
  {
   "cell_type": "code",
   "execution_count": 528,
   "metadata": {},
   "outputs": [
    {
     "data": {
      "text/plain": [
       "Embarked\n",
       "S    644\n",
       "C    168\n",
       "Q     77\n",
       "Name: count, dtype: int64"
      ]
     },
     "execution_count": 528,
     "metadata": {},
     "output_type": "execute_result"
    }
   ],
   "source": [
    "df.Embarked.value_counts()"
   ]
  },
  {
   "cell_type": "code",
   "execution_count": 529,
   "metadata": {},
   "outputs": [
    {
     "data": {
      "text/plain": [
       "Embarked  Survived\n",
       "C         1           55.357143\n",
       "          0           44.642857\n",
       "Q         0           61.038961\n",
       "          1           38.961039\n",
       "S         0           66.304348\n",
       "          1           33.695652\n",
       "Name: proportion, dtype: float64"
      ]
     },
     "execution_count": 529,
     "metadata": {},
     "output_type": "execute_result"
    }
   ],
   "source": [
    "df.groupby('Embarked')['Survived'].value_counts(normalize=True)*100"
   ]
  },
  {
   "cell_type": "code",
   "execution_count": 530,
   "metadata": {},
   "outputs": [
    {
     "data": {
      "image/png": "[encoded data removed]",
      "text/plain": [
       "<Figure size 1000x600 with 1 Axes>"
      ]
     },
     "metadata": {},
     "output_type": "display_data"
    }
   ],
   "source": [
    "import pandas as pd\n",
    "import seaborn as sns\n",
    "import matplotlib.pyplot as plt\n",
    "\n",
    "# Assuming you already have loaded your Titanic dataset into a DataFrame named 'df'\n",
    "\n",
    "# Filter out individuals aged 50 or older\n",
    "# seniors = df[df['Age'] >= 50]\n",
    "\n",
    "# Group by age and calculate survival ratio\n",
    "survival_ratio = df.groupby('Embarked')['Survived'].value_counts(normalize=True).unstack().fillna(0)\n",
    "\n",
    "# Reset index and reshape data for Seaborn\n",
    "survival_ratio.reset_index(inplace=True)\n",
    "survival_ratio = survival_ratio.melt(id_vars=['Embarked'], value_vars=[0, 1], var_name='Survived', value_name='Survival Ratio')\n",
    "\n",
    "# Enlarge the figure\n",
    "plt.figure(figsize=(10, 6))\n",
    "\n",
    "# Plot the survival ratio using Seaborn\n",
    "sns.barplot(data=survival_ratio, x='Embarked', y='Survival Ratio', hue='Survived', palette='pastel',legend='auto')\n",
    "plt.title('Survival Ratio of Southampton, Cherbourg, Queenstown on Titanic')\n",
    "plt.xlabel('Embarked')\n",
    "plt.ylabel('Survival Ratio %')\n",
    "plt.legend(['Not Survived', 'Survived'], loc='upper right', facecolor='lightgrey')  # Changing legend facecolor\n",
    "plt.xticks(rotation=25)\n",
    "plt.show()\n"
   ]
  },
  {
   "cell_type": "markdown",
   "metadata": {},
   "source": [
    "#### 7.\tWhat was the survival rate among passengers with different titles (e.g., Mr., Mrs., Miss)?\n",
    "- Extract titles from passenger names and analyze the survival rates among different titles."
   ]
  },
  {
   "cell_type": "code",
   "execution_count": 531,
   "metadata": {},
   "outputs": [],
   "source": [
    "def gettiles(x):\n",
    "    if 'Mr.' in x:\n",
    "        return 1\n",
    "    elif 'Mrs.' in x:\n",
    "        return 2\n",
    "    elif 'Miss.' in x:\n",
    "        return 3\n",
    "df['NameTitles'] = ''\n",
    "df['NameTitles'] = df['Name'].apply(lambda x: gettiles(x))"
   ]
  },
  {
   "cell_type": "code",
   "execution_count": 532,
   "metadata": {},
   "outputs": [
    {
     "data": {
      "text/plain": [
       "NameTitles  Survived\n",
       "1.0         0           84.332689\n",
       "            1           15.667311\n",
       "2.0         1           79.200000\n",
       "            0           20.800000\n",
       "3.0         1           69.780220\n",
       "            0           30.219780\n",
       "Name: proportion, dtype: float64"
      ]
     },
     "execution_count": 532,
     "metadata": {},
     "output_type": "execute_result"
    }
   ],
   "source": [
    "# df.Name\n",
    "df.groupby('NameTitles')['Survived'].value_counts(normalize=True)*100\n",
    "# 1 Mr.\n",
    "# 2 Mrs.\n",
    "# 3 Miss"
   ]
  },
  {
   "cell_type": "code",
   "execution_count": 533,
   "metadata": {},
   "outputs": [
    {
     "data": {
      "image/png": "[encoded data removed]",
      "text/plain": [
       "<Figure size 1000x600 with 1 Axes>"
      ]
     },
     "metadata": {},
     "output_type": "display_data"
    }
   ],
   "source": [
    "survival_ratio = df.groupby('NameTitles')['Survived'].value_counts(normalize=True).unstack().fillna(0)\n",
    "\n",
    "# Reset index and reshape data for Seaborn\n",
    "survival_ratio.reset_index(inplace=True)\n",
    "survival_ratio = survival_ratio.melt(id_vars=['NameTitles'], value_vars=[0, 1], var_name='Survived', value_name='Survival Ratio')\n",
    "\n",
    "# Enlarge the figure\n",
    "plt.figure(figsize=(10, 6))\n",
    "\n",
    "# Plot the survival ratio using Seaborn\n",
    "sns.barplot(data=survival_ratio, x='NameTitles', y='Survival Ratio', hue='Survived', palette='pastel',legend='auto')\n",
    "plt.title('Survival Ratio of name titles Mr., Mrs., Miss on Titanic')\n",
    "plt.xlabel('NameTitles')\n",
    "plt.ylabel('Survival Ratio %')\n",
    "plt.legend(['Not Survived', 'Survived'], loc='upper right', facecolor='lightgrey')  # Changing legend facecolor\n",
    "plt.xticks(rotation=25)\n",
    "plt.show()"
   ]
  },
  {
   "cell_type": "markdown",
   "metadata": {},
   "source": [
    "#### How did fare prices vary among different passenger classes?\n",
    "- Compare the fare prices paid by passengers in first, second, and third class."
   ]
  },
  {
   "cell_type": "code",
   "execution_count": 534,
   "metadata": {},
   "outputs": [
    {
     "data": {
      "text/plain": [
       "Index(['PassengerId', 'Survived', 'Pclass', 'Name', 'Sex', 'Age', 'SibSp',\n",
       "       'Parch', 'Ticket', 'Fare', 'Cabin', 'Embarked', 'NameTitles'],\n",
       "      dtype='object')"
      ]
     },
     "execution_count": 534,
     "metadata": {},
     "output_type": "execute_result"
    }
   ],
   "source": [
    "df.columns"
   ]
  },
  {
   "cell_type": "code",
   "execution_count": 535,
   "metadata": {},
   "outputs": [
    {
     "data": {
      "text/plain": [
       "1      71.2833\n",
       "3      53.1000\n",
       "6      51.8625\n",
       "11     26.5500\n",
       "23     35.5000\n",
       "        ...   \n",
       "871    52.5542\n",
       "872     5.0000\n",
       "879    83.1583\n",
       "887    30.0000\n",
       "889    30.0000\n",
       "Name: Fare, Length: 216, dtype: float64"
      ]
     },
     "execution_count": 535,
     "metadata": {},
     "output_type": "execute_result"
    }
   ],
   "source": [
    "df[df.Pclass == 1].Fare"
   ]
  },
  {
   "cell_type": "code",
   "execution_count": 536,
   "metadata": {},
   "outputs": [
    {
     "data": {
      "image/png": "[encoded data removed]",
      "text/plain": [
       "<Figure size 1500x500 with 3 Axes>"
      ]
     },
     "metadata": {},
     "output_type": "display_data"
    }
   ],
   "source": [
    "import matplotlib.pyplot as plt\n",
    "\n",
    "# Assuming you have three arrays: data1, data2, and data3\n",
    "data1 =  df[df.Pclass == 1].Fare\n",
    "data2 = df[df.Pclass == 2].Fare\n",
    "data3 =  df[df.Pclass == 3].Fare\n",
    "\n",
    "# Create subplots with 1 row and 3 columns\n",
    "fig, axs = plt.subplots(1, 3, figsize=(15, 5))  # Adjust the figsize as needed\n",
    "\n",
    "# Plot the first graph\n",
    "axs[0].hist(data1)\n",
    "axs[0].set_title('1 class')\n",
    "axs[0].set_xlabel('Fare')\n",
    "# Plot the second graph\n",
    "axs[1].hist(data2)\n",
    "axs[1].set_title('2 Class')\n",
    "axs[1].set_xlabel('Fare')\n",
    "# Plot the third graph\n",
    "axs[2].hist(data3)\n",
    "axs[2].set_title('3 class')\n",
    "axs[2].set_xlabel('Fare')\n",
    "# Show the plot\n",
    "plt.tight_layout()  # Adjust subplots to fit into the figure area without overlapping\n",
    "plt.show()\n"
   ]
  },
  {
   "cell_type": "markdown",
   "metadata": {},
   "source": [
    "<h4>9.\tDid having a cabin affect the survival rate?</h4>\n",
    "- Analyze the survival rates of passengers with and without cabins."
   ]
  },
  {
   "cell_type": "code",
   "execution_count": 537,
   "metadata": {},
   "outputs": [
    {
     "data": {
      "text/plain": [
       "array([nan, 'C85', 'C123', 'E46', 'G6', 'C103', 'D56', 'A6',\n",
       "       'C23 C25 C27', 'B78', 'D33', 'B30', 'C52', 'B28', 'C83', 'F33',\n",
       "       'F G73', 'E31', 'A5', 'D10 D12', 'D26', 'C110', 'B58 B60', 'E101',\n",
       "       'F E69', 'D47', 'B86', 'F2', 'C2', 'E33', 'B19', 'A7', 'C49', 'F4',\n",
       "       'A32', 'B4', 'B80', 'A31', 'D36', 'D15', 'C93', 'C78', 'D35',\n",
       "       'C87', 'B77', 'E67', 'B94', 'C125', 'C99', 'C118', 'D7', 'A19',\n",
       "       'B49', 'D', 'C22 C26', 'C106', 'C65', 'E36', 'C54',\n",
       "       'B57 B59 B63 B66', 'C7', 'E34', 'C32', 'B18', 'C124', 'C91', 'E40',\n",
       "       'T', 'C128', 'D37', 'B35', 'E50', 'C82', 'B96 B98', 'E10', 'E44',\n",
       "       'A34', 'C104', 'C111', 'C92', 'E38', 'D21', 'E12', 'E63', 'A14',\n",
       "       'B37', 'C30', 'D20', 'B79', 'E25', 'D46', 'B73', 'C95', 'B38',\n",
       "       'B39', 'B22', 'C86', 'C70', 'A16', 'C101', 'C68', 'A10', 'E68',\n",
       "       'B41', 'A20', 'D19', 'D50', 'D9', 'A23', 'B50', 'A26', 'D48',\n",
       "       'E58', 'C126', 'B71', 'B51 B53 B55', 'D49', 'B5', 'B20', 'F G63',\n",
       "       'C62 C64', 'E24', 'C90', 'C45', 'E8', 'B101', 'D45', 'C46', 'D30',\n",
       "       'E121', 'D11', 'E77', 'F38', 'B3', 'D6', 'B82 B84', 'D17', 'A36',\n",
       "       'B102', 'B69', 'E49', 'C47', 'D28', 'E17', 'A24', 'C50', 'B42',\n",
       "       'C148'], dtype=object)"
      ]
     },
     "execution_count": 537,
     "metadata": {},
     "output_type": "execute_result"
    }
   ],
   "source": [
    "cabinunique  = df.Cabin.unique()\n",
    "cabinunique"
   ]
  },
  {
   "cell_type": "code",
   "execution_count": 538,
   "metadata": {},
   "outputs": [],
   "source": [
    "df[\"Cabin\"].fillna(\"No Cabin\", inplace=True)"
   ]
  },
  {
   "cell_type": "code",
   "execution_count": 539,
   "metadata": {},
   "outputs": [
    {
     "data": {
      "text/html": [
       "<div>\n",
       "<style scoped>\n",
       "    .dataframe tbody tr th:only-of-type {\n",
       "        vertical-align: middle;\n",
       "    }\n",
       "\n",
       "    .dataframe tbody tr th {\n",
       "        vertical-align: top;\n",
       "    }\n",
       "\n",
       "    .dataframe thead th {\n",
       "        text-align: right;\n",
       "    }\n",
       "</style>\n",
       "<table border=\"1\" class=\"dataframe\">\n",
       "  <thead>\n",
       "    <tr style=\"text-align: right;\">\n",
       "      <th></th>\n",
       "      <th>PassengerId</th>\n",
       "      <th>Survived</th>\n",
       "      <th>Pclass</th>\n",
       "      <th>Name</th>\n",
       "      <th>Sex</th>\n",
       "      <th>Age</th>\n",
       "      <th>SibSp</th>\n",
       "      <th>Parch</th>\n",
       "      <th>Ticket</th>\n",
       "      <th>Fare</th>\n",
       "      <th>Cabin</th>\n",
       "      <th>Embarked</th>\n",
       "      <th>NameTitles</th>\n",
       "    </tr>\n",
       "  </thead>\n",
       "  <tbody>\n",
       "    <tr>\n",
       "      <th>889</th>\n",
       "      <td>890</td>\n",
       "      <td>1</td>\n",
       "      <td>1</td>\n",
       "      <td>Behr, Mr. Karl Howell</td>\n",
       "      <td>male</td>\n",
       "      <td>26.0</td>\n",
       "      <td>0</td>\n",
       "      <td>0</td>\n",
       "      <td>111369</td>\n",
       "      <td>30.0</td>\n",
       "      <td>C148</td>\n",
       "      <td>C</td>\n",
       "      <td>1.0</td>\n",
       "    </tr>\n",
       "  </tbody>\n",
       "</table>\n",
       "</div>"
      ],
      "text/plain": [
       "     PassengerId  Survived  Pclass                   Name   Sex   Age  SibSp  \\\n",
       "889          890         1       1  Behr, Mr. Karl Howell  male  26.0      0   \n",
       "\n",
       "     Parch  Ticket  Fare Cabin Embarked  NameTitles  \n",
       "889      0  111369  30.0  C148        C         1.0  "
      ]
     },
     "execution_count": 539,
     "metadata": {},
     "output_type": "execute_result"
    }
   ],
   "source": [
    "df[df.Cabin == 'C148']"
   ]
  },
  {
   "cell_type": "code",
   "execution_count": 540,
   "metadata": {},
   "outputs": [],
   "source": [
    "cabinuniquevalues = []\n",
    "for i in cabinunique:\n",
    "    cabinuniquevalues.append([df[df.Cabin == i].Survived,df[df.Cabin == i].Cabin])"
   ]
  },
  {
   "cell_type": "code",
   "execution_count": 541,
   "metadata": {},
   "outputs": [
    {
     "data": {
      "text/plain": [
       "[[Series([], Name: Survived, dtype: int64),\n",
       "  Series([], Name: Cabin, dtype: object)],\n",
       " [1    1\n",
       "  Name: Survived, dtype: int64,\n",
       "  1    C85\n",
       "  Name: Cabin, dtype: object],\n",
       " [3      1\n",
       "  137    0\n",
       "  Name: Survived, dtype: int64,\n",
       "  3      C123\n",
       "  137    C123\n",
       "  Name: Cabin, dtype: object],\n",
       " [6    0\n",
       "  Name: Survived, dtype: int64,\n",
       "  6    E46\n",
       "  Name: Cabin, dtype: object],\n",
       " [10     1\n",
       "  205    0\n",
       "  251    0\n",
       "  394    1\n",
       "  Name: Survived, dtype: int64,\n",
       "  10     G6\n",
       "  205    G6\n",
       "  251    G6\n",
       "  394    G6\n",
       "  Name: Cabin, dtype: object],\n",
       " [11    1\n",
       "  Name: Survived, dtype: int64,\n",
       "  11    C103\n",
       "  Name: Cabin, dtype: object],\n",
       " [21    1\n",
       "  Name: Survived, dtype: int64,\n",
       "  21    D56\n",
       "  Name: Cabin, dtype: object],\n",
       " [23    1\n",
       "  Name: Survived, dtype: int64,\n",
       "  23    A6\n",
       "  Name: Cabin, dtype: object],\n",
       " [27     0\n",
       "  88     1\n",
       "  341    1\n",
       "  438    0\n",
       "  Name: Survived, dtype: int64,\n",
       "  27     C23 C25 C27\n",
       "  88     C23 C25 C27\n",
       "  341    C23 C25 C27\n",
       "  438    C23 C25 C27\n",
       "  Name: Cabin, dtype: object],\n",
       " [31    1\n",
       "  Name: Survived, dtype: int64,\n",
       "  31    B78\n",
       "  Name: Cabin, dtype: object],\n",
       " [52     1\n",
       "  645    1\n",
       "  Name: Survived, dtype: int64,\n",
       "  52     D33\n",
       "  645    D33\n",
       "  Name: Cabin, dtype: object],\n",
       " [54    0\n",
       "  Name: Survived, dtype: int64,\n",
       "  54    B30\n",
       "  Name: Cabin, dtype: object],\n",
       " [55     1\n",
       "  430    1\n",
       "  Name: Survived, dtype: int64,\n",
       "  55     C52\n",
       "  430    C52\n",
       "  Name: Cabin, dtype: object],\n",
       " [61     1\n",
       "  829    1\n",
       "  Name: Survived, dtype: int64,\n",
       "  61     B28\n",
       "  829    B28\n",
       "  Name: Cabin, dtype: object],\n",
       " [62     0\n",
       "  230    1\n",
       "  Name: Survived, dtype: int64,\n",
       "  62     C83\n",
       "  230    C83\n",
       "  Name: Cabin, dtype: object],\n",
       " [66     1\n",
       "  345    1\n",
       "  516    1\n",
       "  Name: Survived, dtype: int64,\n",
       "  66     F33\n",
       "  345    F33\n",
       "  516    F33\n",
       "  Name: Cabin, dtype: object],\n",
       " [75     0\n",
       "  715    0\n",
       "  Name: Survived, dtype: int64,\n",
       "  75     F G73\n",
       "  715    F G73\n",
       "  Name: Cabin, dtype: object],\n",
       " [92    0\n",
       "  Name: Survived, dtype: int64,\n",
       "  92    E31\n",
       "  Name: Cabin, dtype: object],\n",
       " [96    0\n",
       "  Name: Survived, dtype: int64,\n",
       "  96    A5\n",
       "  Name: Cabin, dtype: object],\n",
       " [97    1\n",
       "  Name: Survived, dtype: int64,\n",
       "  97    D10 D12\n",
       "  Name: Cabin, dtype: object],\n",
       " [102    0\n",
       "  124    0\n",
       "  Name: Survived, dtype: int64,\n",
       "  102    D26\n",
       "  124    D26\n",
       "  Name: Cabin, dtype: object],\n",
       " [110    0\n",
       "  Name: Survived, dtype: int64,\n",
       "  110    C110\n",
       "  Name: Cabin, dtype: object],\n",
       " [118    0\n",
       "  299    1\n",
       "  Name: Survived, dtype: int64,\n",
       "  118    B58 B60\n",
       "  299    B58 B60\n",
       "  Name: Cabin, dtype: object],\n",
       " [123    1\n",
       "  303    1\n",
       "  717    1\n",
       "  Name: Survived, dtype: int64,\n",
       "  123    E101\n",
       "  303    E101\n",
       "  717    E101\n",
       "  Name: Cabin, dtype: object],\n",
       " [128    1\n",
       "  Name: Survived, dtype: int64,\n",
       "  128    F E69\n",
       "  Name: Cabin, dtype: object],\n",
       " [136    1\n",
       "  Name: Survived, dtype: int64,\n",
       "  136    D47\n",
       "  Name: Cabin, dtype: object],\n",
       " [139    0\n",
       "  Name: Survived, dtype: int64,\n",
       "  139    B86\n",
       "  Name: Cabin, dtype: object],\n",
       " [148    0\n",
       "  193    1\n",
       "  340    1\n",
       "  Name: Survived, dtype: int64,\n",
       "  148    F2\n",
       "  193    F2\n",
       "  340    F2\n",
       "  Name: Cabin, dtype: object],\n",
       " [151    1\n",
       "  336    0\n",
       "  Name: Survived, dtype: int64,\n",
       "  151    C2\n",
       "  336    C2\n",
       "  Name: Cabin, dtype: object],\n",
       " [166    1\n",
       "  356    1\n",
       "  Name: Survived, dtype: int64,\n",
       "  166    E33\n",
       "  356    E33\n",
       "  Name: Cabin, dtype: object],\n",
       " [170    0\n",
       "  Name: Survived, dtype: int64,\n",
       "  170    B19\n",
       "  Name: Cabin, dtype: object],\n",
       " [174    0\n",
       "  Name: Survived, dtype: int64,\n",
       "  174    A7\n",
       "  Name: Cabin, dtype: object],\n",
       " [177    0\n",
       "  Name: Survived, dtype: int64,\n",
       "  177    C49\n",
       "  Name: Cabin, dtype: object],\n",
       " [183    1\n",
       "  618    1\n",
       "  Name: Survived, dtype: int64,\n",
       "  183    F4\n",
       "  618    F4\n",
       "  Name: Cabin, dtype: object],\n",
       " [185    0\n",
       "  Name: Survived, dtype: int64,\n",
       "  185    A32\n",
       "  Name: Cabin, dtype: object],\n",
       " [194    1\n",
       "  Name: Survived, dtype: int64,\n",
       "  194    B4\n",
       "  Name: Cabin, dtype: object],\n",
       " [195    1\n",
       "  Name: Survived, dtype: int64,\n",
       "  195    B80\n",
       "  Name: Cabin, dtype: object],\n",
       " [209    1\n",
       "  Name: Survived, dtype: int64,\n",
       "  209    A31\n",
       "  Name: Cabin, dtype: object],\n",
       " [215    1\n",
       "  393    1\n",
       "  Name: Survived, dtype: int64,\n",
       "  215    D36\n",
       "  393    D36\n",
       "  Name: Cabin, dtype: object],\n",
       " [218    1\n",
       "  Name: Survived, dtype: int64,\n",
       "  218    D15\n",
       "  Name: Cabin, dtype: object],\n",
       " [224    1\n",
       "  486    1\n",
       "  Name: Survived, dtype: int64,\n",
       "  224    C93\n",
       "  486    C93\n",
       "  Name: Cabin, dtype: object],\n",
       " [245    0\n",
       "  412    1\n",
       "  Name: Survived, dtype: int64,\n",
       "  245    C78\n",
       "  412    C78\n",
       "  Name: Cabin, dtype: object],\n",
       " [248    1\n",
       "  871    1\n",
       "  Name: Survived, dtype: int64,\n",
       "  248    D35\n",
       "  871    D35\n",
       "  Name: Cabin, dtype: object],\n",
       " [252    0\n",
       "  Name: Survived, dtype: int64,\n",
       "  252    C87\n",
       "  Name: Cabin, dtype: object],\n",
       " [257    1\n",
       "  759    1\n",
       "  Name: Survived, dtype: int64,\n",
       "  257    B77\n",
       "  759    B77\n",
       "  Name: Cabin, dtype: object],\n",
       " [262    0\n",
       "  558    1\n",
       "  Name: Survived, dtype: int64,\n",
       "  262    E67\n",
       "  558    E67\n",
       "  Name: Cabin, dtype: object],\n",
       " [263    0\n",
       "  Name: Survived, dtype: int64,\n",
       "  263    B94\n",
       "  Name: Cabin, dtype: object],\n",
       " [268    1\n",
       "  609    1\n",
       "  Name: Survived, dtype: int64,\n",
       "  268    C125\n",
       "  609    C125\n",
       "  Name: Cabin, dtype: object],\n",
       " [269    1\n",
       "  Name: Survived, dtype: int64,\n",
       "  269    C99\n",
       "  Name: Cabin, dtype: object],\n",
       " [273    0\n",
       "  Name: Survived, dtype: int64,\n",
       "  273    C118\n",
       "  Name: Cabin, dtype: object],\n",
       " [275    1\n",
       "  Name: Survived, dtype: int64,\n",
       "  275    D7\n",
       "  Name: Cabin, dtype: object],\n",
       " [284    0\n",
       "  Name: Survived, dtype: int64,\n",
       "  284    A19\n",
       "  Name: Cabin, dtype: object],\n",
       " [291    1\n",
       "  484    1\n",
       "  Name: Survived, dtype: int64,\n",
       "  291    B49\n",
       "  484    B49\n",
       "  Name: Cabin, dtype: object],\n",
       " [292    0\n",
       "  327    1\n",
       "  473    1\n",
       "  Name: Survived, dtype: int64,\n",
       "  292    D\n",
       "  327    D\n",
       "  473    D\n",
       "  Name: Cabin, dtype: object],\n",
       " [297    0\n",
       "  305    1\n",
       "  498    0\n",
       "  Name: Survived, dtype: int64,\n",
       "  297    C22 C26\n",
       "  305    C22 C26\n",
       "  498    C22 C26\n",
       "  Name: Cabin, dtype: object],\n",
       " [298    1\n",
       "  Name: Survived, dtype: int64,\n",
       "  298    C106\n",
       "  Name: Cabin, dtype: object],\n",
       " [307    1\n",
       "  505    0\n",
       "  Name: Survived, dtype: int64,\n",
       "  307    C65\n",
       "  505    C65\n",
       "  Name: Cabin, dtype: object],\n",
       " [309    1\n",
       "  Name: Survived, dtype: int64,\n",
       "  309    E36\n",
       "  Name: Cabin, dtype: object],\n",
       " [310    1\n",
       "  Name: Survived, dtype: int64,\n",
       "  310    C54\n",
       "  Name: Cabin, dtype: object],\n",
       " [311    1\n",
       "  742    1\n",
       "  Name: Survived, dtype: int64,\n",
       "  311    B57 B59 B63 B66\n",
       "  742    B57 B59 B63 B66\n",
       "  Name: Cabin, dtype: object],\n",
       " [318    1\n",
       "  Name: Survived, dtype: int64,\n",
       "  318    C7\n",
       "  Name: Cabin, dtype: object],\n",
       " [319    1\n",
       "  Name: Survived, dtype: int64,\n",
       "  319    E34\n",
       "  Name: Cabin, dtype: object],\n",
       " [325    1\n",
       "  Name: Survived, dtype: int64,\n",
       "  325    C32\n",
       "  Name: Cabin, dtype: object],\n",
       " [329    1\n",
       "  523    1\n",
       "  Name: Survived, dtype: int64,\n",
       "  329    B18\n",
       "  523    B18\n",
       "  Name: Cabin, dtype: object],\n",
       " [331    0\n",
       "  711    0\n",
       "  Name: Survived, dtype: int64,\n",
       "  331    C124\n",
       "  711    C124\n",
       "  Name: Cabin, dtype: object],\n",
       " [332    0\n",
       "  Name: Survived, dtype: int64,\n",
       "  332    C91\n",
       "  Name: Cabin, dtype: object],\n",
       " [337    1\n",
       "  Name: Survived, dtype: int64,\n",
       "  337    E40\n",
       "  Name: Cabin, dtype: object],\n",
       " [339    0\n",
       "  Name: Survived, dtype: int64,\n",
       "  339    T\n",
       "  Name: Cabin, dtype: object],\n",
       " [351    0\n",
       "  Name: Survived, dtype: int64,\n",
       "  351    C128\n",
       "  Name: Cabin, dtype: object],\n",
       " [366    1\n",
       "  Name: Survived, dtype: int64,\n",
       "  366    D37\n",
       "  Name: Cabin, dtype: object],\n",
       " [369    1\n",
       "  641    1\n",
       "  Name: Survived, dtype: int64,\n",
       "  369    B35\n",
       "  641    B35\n",
       "  Name: Cabin, dtype: object],\n",
       " [370    1\n",
       "  Name: Survived, dtype: int64,\n",
       "  370    E50\n",
       "  Name: Cabin, dtype: object],\n",
       " [377    0\n",
       "  Name: Survived, dtype: int64,\n",
       "  377    C82\n",
       "  Name: Cabin, dtype: object],\n",
       " [390    1\n",
       "  435    1\n",
       "  763    1\n",
       "  802    1\n",
       "  Name: Survived, dtype: int64,\n",
       "  390    B96 B98\n",
       "  435    B96 B98\n",
       "  763    B96 B98\n",
       "  802    B96 B98\n",
       "  Name: Cabin, dtype: object],\n",
       " [429    1\n",
       "  Name: Survived, dtype: int64,\n",
       "  429    E10\n",
       "  Name: Cabin, dtype: object],\n",
       " [434    0\n",
       "  577    1\n",
       "  Name: Survived, dtype: int64,\n",
       "  434    E44\n",
       "  577    E44\n",
       "  Name: Cabin, dtype: object],\n",
       " [445    1\n",
       "  Name: Survived, dtype: int64,\n",
       "  445    A34\n",
       "  Name: Cabin, dtype: object],\n",
       " [449    1\n",
       "  Name: Survived, dtype: int64,\n",
       "  449    C104\n",
       "  Name: Cabin, dtype: object],\n",
       " [452    0\n",
       "  Name: Survived, dtype: int64,\n",
       "  452    C111\n",
       "  Name: Cabin, dtype: object],\n",
       " [453    1\n",
       "  849    1\n",
       "  Name: Survived, dtype: int64,\n",
       "  453    C92\n",
       "  849    C92\n",
       "  Name: Cabin, dtype: object],\n",
       " [456    0\n",
       "  Name: Survived, dtype: int64,\n",
       "  456    E38\n",
       "  Name: Cabin, dtype: object],\n",
       " [457    1\n",
       "  Name: Survived, dtype: int64,\n",
       "  457    D21\n",
       "  Name: Cabin, dtype: object],\n",
       " [460    1\n",
       "  Name: Survived, dtype: int64,\n",
       "  460    E12\n",
       "  Name: Cabin, dtype: object],\n",
       " [462    0\n",
       "  Name: Survived, dtype: int64,\n",
       "  462    E63\n",
       "  Name: Cabin, dtype: object],\n",
       " [475    0\n",
       "  Name: Survived, dtype: int64,\n",
       "  475    A14\n",
       "  Name: Cabin, dtype: object],\n",
       " [487    0\n",
       "  Name: Survived, dtype: int64,\n",
       "  487    B37\n",
       "  Name: Cabin, dtype: object],\n",
       " [492    0\n",
       "  Name: Survived, dtype: int64,\n",
       "  492    C30\n",
       "  Name: Cabin, dtype: object],\n",
       " [496    1\n",
       "  591    1\n",
       "  Name: Survived, dtype: int64,\n",
       "  496    D20\n",
       "  591    D20\n",
       "  Name: Cabin, dtype: object],\n",
       " [504    1\n",
       "  Name: Survived, dtype: int64,\n",
       "  504    B79\n",
       "  Name: Cabin, dtype: object],\n",
       " [512    1\n",
       "  572    1\n",
       "  Name: Survived, dtype: int64,\n",
       "  512    E25\n",
       "  572    E25\n",
       "  Name: Cabin, dtype: object],\n",
       " [515    0\n",
       "  Name: Survived, dtype: int64,\n",
       "  515    D46\n",
       "  Name: Cabin, dtype: object],\n",
       " [520    1\n",
       "  Name: Survived, dtype: int64,\n",
       "  520    B73\n",
       "  Name: Cabin, dtype: object],\n",
       " [527    0\n",
       "  Name: Survived, dtype: int64,\n",
       "  527    C95\n",
       "  Name: Cabin, dtype: object],\n",
       " [536    0\n",
       "  Name: Survived, dtype: int64,\n",
       "  536    B38\n",
       "  Name: Cabin, dtype: object],\n",
       " [539    1\n",
       "  Name: Survived, dtype: int64,\n",
       "  539    B39\n",
       "  Name: Cabin, dtype: object],\n",
       " [540    1\n",
       "  745    0\n",
       "  Name: Survived, dtype: int64,\n",
       "  540    B22\n",
       "  745    B22\n",
       "  Name: Cabin, dtype: object],\n",
       " [544    0\n",
       "  Name: Survived, dtype: int64,\n",
       "  544    C86\n",
       "  Name: Cabin, dtype: object],\n",
       " [550    1\n",
       "  Name: Survived, dtype: int64,\n",
       "  550    C70\n",
       "  Name: Cabin, dtype: object],\n",
       " [556    1\n",
       "  Name: Survived, dtype: int64,\n",
       "  556    A16\n",
       "  Name: Cabin, dtype: object],\n",
       " [571    1\n",
       "  Name: Survived, dtype: int64,\n",
       "  571    C101\n",
       "  Name: Cabin, dtype: object],\n",
       " [581    1\n",
       "  698    0\n",
       "  Name: Survived, dtype: int64,\n",
       "  581    C68\n",
       "  698    C68\n",
       "  Name: Cabin, dtype: object],\n",
       " [583    0\n",
       "  Name: Survived, dtype: int64,\n",
       "  583    A10\n",
       "  Name: Cabin, dtype: object],\n",
       " [585    1\n",
       "  Name: Survived, dtype: int64,\n",
       "  585    E68\n",
       "  Name: Cabin, dtype: object],\n",
       " [587    1\n",
       "  Name: Survived, dtype: int64,\n",
       "  587    B41\n",
       "  Name: Cabin, dtype: object],\n",
       " [599    1\n",
       "  Name: Survived, dtype: int64,\n",
       "  599    A20\n",
       "  Name: Cabin, dtype: object],\n",
       " [621    1\n",
       "  Name: Survived, dtype: int64,\n",
       "  621    D19\n",
       "  Name: Cabin, dtype: object],\n",
       " [625    0\n",
       "  Name: Survived, dtype: int64,\n",
       "  625    D50\n",
       "  Name: Cabin, dtype: object],\n",
       " [627    1\n",
       "  Name: Survived, dtype: int64,\n",
       "  627    D9\n",
       "  Name: Cabin, dtype: object],\n",
       " [630    1\n",
       "  Name: Survived, dtype: int64,\n",
       "  630    A23\n",
       "  Name: Cabin, dtype: object],\n",
       " [632    1\n",
       "  Name: Survived, dtype: int64,\n",
       "  632    B50\n",
       "  Name: Cabin, dtype: object],\n",
       " [647    1\n",
       "  Name: Survived, dtype: int64,\n",
       "  647    A26\n",
       "  Name: Cabin, dtype: object],\n",
       " [659    0\n",
       "  Name: Survived, dtype: int64,\n",
       "  659    D48\n",
       "  Name: Cabin, dtype: object],\n",
       " [662    0\n",
       "  Name: Survived, dtype: int64,\n",
       "  662    E58\n",
       "  Name: Cabin, dtype: object],\n",
       " [669    1\n",
       "  712    1\n",
       "  Name: Survived, dtype: int64,\n",
       "  669    C126\n",
       "  712    C126\n",
       "  Name: Cabin, dtype: object],\n",
       " [671    0\n",
       "  Name: Survived, dtype: int64,\n",
       "  671    B71\n",
       "  Name: Cabin, dtype: object],\n",
       " [679    1\n",
       "  872    0\n",
       "  Name: Survived, dtype: int64,\n",
       "  679    B51 B53 B55\n",
       "  872    B51 B53 B55\n",
       "  Name: Cabin, dtype: object],\n",
       " [681    1\n",
       "  Name: Survived, dtype: int64,\n",
       "  681    D49\n",
       "  Name: Cabin, dtype: object],\n",
       " [689    1\n",
       "  730    1\n",
       "  Name: Survived, dtype: int64,\n",
       "  689    B5\n",
       "  730    B5\n",
       "  Name: Cabin, dtype: object],\n",
       " [690    1\n",
       "  781    1\n",
       "  Name: Survived, dtype: int64,\n",
       "  690    B20\n",
       "  781    B20\n",
       "  Name: Cabin, dtype: object],\n",
       " [699    0\n",
       "  Name: Survived, dtype: int64,\n",
       "  699    F G63\n",
       "  Name: Cabin, dtype: object],\n",
       " [700    1\n",
       "  Name: Survived, dtype: int64,\n",
       "  700    C62 C64\n",
       "  Name: Cabin, dtype: object],\n",
       " [701    1\n",
       "  707    1\n",
       "  Name: Survived, dtype: int64,\n",
       "  701    E24\n",
       "  707    E24\n",
       "  Name: Cabin, dtype: object],\n",
       " [710    1\n",
       "  Name: Survived, dtype: int64,\n",
       "  710    C90\n",
       "  Name: Cabin, dtype: object],\n",
       " [716    1\n",
       "  Name: Survived, dtype: int64,\n",
       "  716    C45\n",
       "  Name: Cabin, dtype: object],\n",
       " [724    1\n",
       "  809    1\n",
       "  Name: Survived, dtype: int64,\n",
       "  724    E8\n",
       "  809    E8\n",
       "  Name: Cabin, dtype: object],\n",
       " [737    1\n",
       "  Name: Survived, dtype: int64,\n",
       "  737    B101\n",
       "  Name: Cabin, dtype: object],\n",
       " [740    1\n",
       "  Name: Survived, dtype: int64,\n",
       "  740    D45\n",
       "  Name: Cabin, dtype: object],\n",
       " [741    0\n",
       "  Name: Survived, dtype: int64,\n",
       "  741    C46\n",
       "  Name: Cabin, dtype: object],\n",
       " [748    0\n",
       "  Name: Survived, dtype: int64,\n",
       "  748    D30\n",
       "  Name: Cabin, dtype: object],\n",
       " [751    1\n",
       "  823    1\n",
       "  Name: Survived, dtype: int64,\n",
       "  751    E121\n",
       "  823    E121\n",
       "  Name: Cabin, dtype: object],\n",
       " [765    1\n",
       "  Name: Survived, dtype: int64,\n",
       "  765    D11\n",
       "  Name: Cabin, dtype: object],\n",
       " [772    0\n",
       "  Name: Survived, dtype: int64,\n",
       "  772    E77\n",
       "  Name: Cabin, dtype: object],\n",
       " [776    0\n",
       "  Name: Survived, dtype: int64,\n",
       "  776    F38\n",
       "  Name: Cabin, dtype: object],\n",
       " [779    1\n",
       "  Name: Survived, dtype: int64,\n",
       "  779    B3\n",
       "  Name: Cabin, dtype: object],\n",
       " [782    0\n",
       "  Name: Survived, dtype: int64,\n",
       "  782    D6\n",
       "  Name: Cabin, dtype: object],\n",
       " [789    0\n",
       "  Name: Survived, dtype: int64,\n",
       "  789    B82 B84\n",
       "  Name: Cabin, dtype: object],\n",
       " [796    1\n",
       "  862    1\n",
       "  Name: Survived, dtype: int64,\n",
       "  796    D17\n",
       "  862    D17\n",
       "  Name: Cabin, dtype: object],\n",
       " [806    0\n",
       "  Name: Survived, dtype: int64,\n",
       "  806    A36\n",
       "  Name: Cabin, dtype: object],\n",
       " [815    0\n",
       "  Name: Survived, dtype: int64,\n",
       "  815    B102\n",
       "  Name: Cabin, dtype: object],\n",
       " [820    1\n",
       "  Name: Survived, dtype: int64,\n",
       "  820    B69\n",
       "  Name: Cabin, dtype: object],\n",
       " [835    1\n",
       "  Name: Survived, dtype: int64,\n",
       "  835    E49\n",
       "  Name: Cabin, dtype: object],\n",
       " [839    1\n",
       "  Name: Survived, dtype: int64,\n",
       "  839    C47\n",
       "  Name: Cabin, dtype: object],\n",
       " [853    1\n",
       "  Name: Survived, dtype: int64,\n",
       "  853    D28\n",
       "  Name: Cabin, dtype: object],\n",
       " [857    1\n",
       "  Name: Survived, dtype: int64,\n",
       "  857    E17\n",
       "  Name: Cabin, dtype: object],\n",
       " [867    0\n",
       "  Name: Survived, dtype: int64,\n",
       "  867    A24\n",
       "  Name: Cabin, dtype: object],\n",
       " [879    1\n",
       "  Name: Survived, dtype: int64,\n",
       "  879    C50\n",
       "  Name: Cabin, dtype: object],\n",
       " [887    1\n",
       "  Name: Survived, dtype: int64,\n",
       "  887    B42\n",
       "  Name: Cabin, dtype: object],\n",
       " [889    1\n",
       "  Name: Survived, dtype: int64,\n",
       "  889    C148\n",
       "  Name: Cabin, dtype: object]]"
      ]
     },
     "execution_count": 541,
     "metadata": {},
     "output_type": "execute_result"
    }
   ],
   "source": [
    "cabinuniquevalues"
   ]
  },
  {
   "cell_type": "code",
   "execution_count": 542,
   "metadata": {},
   "outputs": [],
   "source": [
    "df[\"Cabin\"] = df[\"Cabin\"].apply(lambda x: 0 if x == \"No Cabin\" else 1)"
   ]
  },
  {
   "cell_type": "code",
   "execution_count": 543,
   "metadata": {},
   "outputs": [
    {
     "data": {
      "text/html": [
       "<div>\n",
       "<style scoped>\n",
       "    .dataframe tbody tr th:only-of-type {\n",
       "        vertical-align: middle;\n",
       "    }\n",
       "\n",
       "    .dataframe tbody tr th {\n",
       "        vertical-align: top;\n",
       "    }\n",
       "\n",
       "    .dataframe thead th {\n",
       "        text-align: right;\n",
       "    }\n",
       "</style>\n",
       "<table border=\"1\" class=\"dataframe\">\n",
       "  <thead>\n",
       "    <tr style=\"text-align: right;\">\n",
       "      <th></th>\n",
       "      <th>PassengerId</th>\n",
       "      <th>Survived</th>\n",
       "      <th>Pclass</th>\n",
       "      <th>Name</th>\n",
       "      <th>Sex</th>\n",
       "      <th>Age</th>\n",
       "      <th>SibSp</th>\n",
       "      <th>Parch</th>\n",
       "      <th>Ticket</th>\n",
       "      <th>Fare</th>\n",
       "      <th>Cabin</th>\n",
       "      <th>Embarked</th>\n",
       "      <th>NameTitles</th>\n",
       "    </tr>\n",
       "  </thead>\n",
       "  <tbody>\n",
       "    <tr>\n",
       "      <th>1</th>\n",
       "      <td>2</td>\n",
       "      <td>1</td>\n",
       "      <td>1</td>\n",
       "      <td>Cumings, Mrs. John Bradley (Florence Briggs Th...</td>\n",
       "      <td>female</td>\n",
       "      <td>38.0</td>\n",
       "      <td>1</td>\n",
       "      <td>0</td>\n",
       "      <td>PC 17599</td>\n",
       "      <td>71.2833</td>\n",
       "      <td>1</td>\n",
       "      <td>C</td>\n",
       "      <td>2.0</td>\n",
       "    </tr>\n",
       "    <tr>\n",
       "      <th>3</th>\n",
       "      <td>4</td>\n",
       "      <td>1</td>\n",
       "      <td>1</td>\n",
       "      <td>Futrelle, Mrs. Jacques Heath (Lily May Peel)</td>\n",
       "      <td>female</td>\n",
       "      <td>35.0</td>\n",
       "      <td>1</td>\n",
       "      <td>0</td>\n",
       "      <td>113803</td>\n",
       "      <td>53.1000</td>\n",
       "      <td>1</td>\n",
       "      <td>S</td>\n",
       "      <td>2.0</td>\n",
       "    </tr>\n",
       "    <tr>\n",
       "      <th>6</th>\n",
       "      <td>7</td>\n",
       "      <td>0</td>\n",
       "      <td>1</td>\n",
       "      <td>McCarthy, Mr. Timothy J</td>\n",
       "      <td>male</td>\n",
       "      <td>54.0</td>\n",
       "      <td>0</td>\n",
       "      <td>0</td>\n",
       "      <td>17463</td>\n",
       "      <td>51.8625</td>\n",
       "      <td>1</td>\n",
       "      <td>S</td>\n",
       "      <td>1.0</td>\n",
       "    </tr>\n",
       "    <tr>\n",
       "      <th>10</th>\n",
       "      <td>11</td>\n",
       "      <td>1</td>\n",
       "      <td>3</td>\n",
       "      <td>Sandstrom, Miss. Marguerite Rut</td>\n",
       "      <td>female</td>\n",
       "      <td>4.0</td>\n",
       "      <td>1</td>\n",
       "      <td>1</td>\n",
       "      <td>PP 9549</td>\n",
       "      <td>16.7000</td>\n",
       "      <td>1</td>\n",
       "      <td>S</td>\n",
       "      <td>3.0</td>\n",
       "    </tr>\n",
       "    <tr>\n",
       "      <th>11</th>\n",
       "      <td>12</td>\n",
       "      <td>1</td>\n",
       "      <td>1</td>\n",
       "      <td>Bonnell, Miss. Elizabeth</td>\n",
       "      <td>female</td>\n",
       "      <td>58.0</td>\n",
       "      <td>0</td>\n",
       "      <td>0</td>\n",
       "      <td>113783</td>\n",
       "      <td>26.5500</td>\n",
       "      <td>1</td>\n",
       "      <td>S</td>\n",
       "      <td>3.0</td>\n",
       "    </tr>\n",
       "    <tr>\n",
       "      <th>...</th>\n",
       "      <td>...</td>\n",
       "      <td>...</td>\n",
       "      <td>...</td>\n",
       "      <td>...</td>\n",
       "      <td>...</td>\n",
       "      <td>...</td>\n",
       "      <td>...</td>\n",
       "      <td>...</td>\n",
       "      <td>...</td>\n",
       "      <td>...</td>\n",
       "      <td>...</td>\n",
       "      <td>...</td>\n",
       "      <td>...</td>\n",
       "    </tr>\n",
       "    <tr>\n",
       "      <th>871</th>\n",
       "      <td>872</td>\n",
       "      <td>1</td>\n",
       "      <td>1</td>\n",
       "      <td>Beckwith, Mrs. Richard Leonard (Sallie Monypeny)</td>\n",
       "      <td>female</td>\n",
       "      <td>47.0</td>\n",
       "      <td>1</td>\n",
       "      <td>1</td>\n",
       "      <td>11751</td>\n",
       "      <td>52.5542</td>\n",
       "      <td>1</td>\n",
       "      <td>S</td>\n",
       "      <td>2.0</td>\n",
       "    </tr>\n",
       "    <tr>\n",
       "      <th>872</th>\n",
       "      <td>873</td>\n",
       "      <td>0</td>\n",
       "      <td>1</td>\n",
       "      <td>Carlsson, Mr. Frans Olof</td>\n",
       "      <td>male</td>\n",
       "      <td>33.0</td>\n",
       "      <td>0</td>\n",
       "      <td>0</td>\n",
       "      <td>695</td>\n",
       "      <td>5.0000</td>\n",
       "      <td>1</td>\n",
       "      <td>S</td>\n",
       "      <td>1.0</td>\n",
       "    </tr>\n",
       "    <tr>\n",
       "      <th>879</th>\n",
       "      <td>880</td>\n",
       "      <td>1</td>\n",
       "      <td>1</td>\n",
       "      <td>Potter, Mrs. Thomas Jr (Lily Alexenia Wilson)</td>\n",
       "      <td>female</td>\n",
       "      <td>56.0</td>\n",
       "      <td>0</td>\n",
       "      <td>1</td>\n",
       "      <td>11767</td>\n",
       "      <td>83.1583</td>\n",
       "      <td>1</td>\n",
       "      <td>C</td>\n",
       "      <td>2.0</td>\n",
       "    </tr>\n",
       "    <tr>\n",
       "      <th>887</th>\n",
       "      <td>888</td>\n",
       "      <td>1</td>\n",
       "      <td>1</td>\n",
       "      <td>Graham, Miss. Margaret Edith</td>\n",
       "      <td>female</td>\n",
       "      <td>19.0</td>\n",
       "      <td>0</td>\n",
       "      <td>0</td>\n",
       "      <td>112053</td>\n",
       "      <td>30.0000</td>\n",
       "      <td>1</td>\n",
       "      <td>S</td>\n",
       "      <td>3.0</td>\n",
       "    </tr>\n",
       "    <tr>\n",
       "      <th>889</th>\n",
       "      <td>890</td>\n",
       "      <td>1</td>\n",
       "      <td>1</td>\n",
       "      <td>Behr, Mr. Karl Howell</td>\n",
       "      <td>male</td>\n",
       "      <td>26.0</td>\n",
       "      <td>0</td>\n",
       "      <td>0</td>\n",
       "      <td>111369</td>\n",
       "      <td>30.0000</td>\n",
       "      <td>1</td>\n",
       "      <td>C</td>\n",
       "      <td>1.0</td>\n",
       "    </tr>\n",
       "  </tbody>\n",
       "</table>\n",
       "<p>204 rows × 13 columns</p>\n",
       "</div>"
      ],
      "text/plain": [
       "     PassengerId  Survived  Pclass  \\\n",
       "1              2         1       1   \n",
       "3              4         1       1   \n",
       "6              7         0       1   \n",
       "10            11         1       3   \n",
       "11            12         1       1   \n",
       "..           ...       ...     ...   \n",
       "871          872         1       1   \n",
       "872          873         0       1   \n",
       "879          880         1       1   \n",
       "887          888         1       1   \n",
       "889          890         1       1   \n",
       "\n",
       "                                                  Name     Sex   Age  SibSp  \\\n",
       "1    Cumings, Mrs. John Bradley (Florence Briggs Th...  female  38.0      1   \n",
       "3         Futrelle, Mrs. Jacques Heath (Lily May Peel)  female  35.0      1   \n",
       "6                              McCarthy, Mr. Timothy J    male  54.0      0   \n",
       "10                     Sandstrom, Miss. Marguerite Rut  female   4.0      1   \n",
       "11                            Bonnell, Miss. Elizabeth  female  58.0      0   \n",
       "..                                                 ...     ...   ...    ...   \n",
       "871   Beckwith, Mrs. Richard Leonard (Sallie Monypeny)  female  47.0      1   \n",
       "872                           Carlsson, Mr. Frans Olof    male  33.0      0   \n",
       "879      Potter, Mrs. Thomas Jr (Lily Alexenia Wilson)  female  56.0      0   \n",
       "887                       Graham, Miss. Margaret Edith  female  19.0      0   \n",
       "889                              Behr, Mr. Karl Howell    male  26.0      0   \n",
       "\n",
       "     Parch    Ticket     Fare  Cabin Embarked  NameTitles  \n",
       "1        0  PC 17599  71.2833      1        C         2.0  \n",
       "3        0    113803  53.1000      1        S         2.0  \n",
       "6        0     17463  51.8625      1        S         1.0  \n",
       "10       1   PP 9549  16.7000      1        S         3.0  \n",
       "11       0    113783  26.5500      1        S         3.0  \n",
       "..     ...       ...      ...    ...      ...         ...  \n",
       "871      1     11751  52.5542      1        S         2.0  \n",
       "872      0       695   5.0000      1        S         1.0  \n",
       "879      1     11767  83.1583      1        C         2.0  \n",
       "887      0    112053  30.0000      1        S         3.0  \n",
       "889      0    111369  30.0000      1        C         1.0  \n",
       "\n",
       "[204 rows x 13 columns]"
      ]
     },
     "execution_count": 543,
     "metadata": {},
     "output_type": "execute_result"
    }
   ],
   "source": [
    "df[df.Cabin == 1]"
   ]
  },
  {
   "cell_type": "code",
   "execution_count": 544,
   "metadata": {},
   "outputs": [
    {
     "data": {
      "text/html": [
       "<div>\n",
       "<style scoped>\n",
       "    .dataframe tbody tr th:only-of-type {\n",
       "        vertical-align: middle;\n",
       "    }\n",
       "\n",
       "    .dataframe tbody tr th {\n",
       "        vertical-align: top;\n",
       "    }\n",
       "\n",
       "    .dataframe thead th {\n",
       "        text-align: right;\n",
       "    }\n",
       "</style>\n",
       "<table border=\"1\" class=\"dataframe\">\n",
       "  <thead>\n",
       "    <tr style=\"text-align: right;\">\n",
       "      <th></th>\n",
       "      <th>PassengerId</th>\n",
       "      <th>Survived</th>\n",
       "      <th>Pclass</th>\n",
       "      <th>Name</th>\n",
       "      <th>Sex</th>\n",
       "      <th>Age</th>\n",
       "      <th>SibSp</th>\n",
       "      <th>Parch</th>\n",
       "      <th>Ticket</th>\n",
       "      <th>Fare</th>\n",
       "      <th>Cabin</th>\n",
       "      <th>Embarked</th>\n",
       "      <th>NameTitles</th>\n",
       "    </tr>\n",
       "  </thead>\n",
       "  <tbody>\n",
       "    <tr>\n",
       "      <th>0</th>\n",
       "      <td>1</td>\n",
       "      <td>0</td>\n",
       "      <td>3</td>\n",
       "      <td>Braund, Mr. Owen Harris</td>\n",
       "      <td>male</td>\n",
       "      <td>22.0</td>\n",
       "      <td>1</td>\n",
       "      <td>0</td>\n",
       "      <td>A/5 21171</td>\n",
       "      <td>7.2500</td>\n",
       "      <td>0</td>\n",
       "      <td>S</td>\n",
       "      <td>1.0</td>\n",
       "    </tr>\n",
       "    <tr>\n",
       "      <th>1</th>\n",
       "      <td>2</td>\n",
       "      <td>1</td>\n",
       "      <td>1</td>\n",
       "      <td>Cumings, Mrs. John Bradley (Florence Briggs Th...</td>\n",
       "      <td>female</td>\n",
       "      <td>38.0</td>\n",
       "      <td>1</td>\n",
       "      <td>0</td>\n",
       "      <td>PC 17599</td>\n",
       "      <td>71.2833</td>\n",
       "      <td>1</td>\n",
       "      <td>C</td>\n",
       "      <td>2.0</td>\n",
       "    </tr>\n",
       "    <tr>\n",
       "      <th>2</th>\n",
       "      <td>3</td>\n",
       "      <td>1</td>\n",
       "      <td>3</td>\n",
       "      <td>Heikkinen, Miss. Laina</td>\n",
       "      <td>female</td>\n",
       "      <td>26.0</td>\n",
       "      <td>0</td>\n",
       "      <td>0</td>\n",
       "      <td>STON/O2. 3101282</td>\n",
       "      <td>7.9250</td>\n",
       "      <td>0</td>\n",
       "      <td>S</td>\n",
       "      <td>3.0</td>\n",
       "    </tr>\n",
       "    <tr>\n",
       "      <th>3</th>\n",
       "      <td>4</td>\n",
       "      <td>1</td>\n",
       "      <td>1</td>\n",
       "      <td>Futrelle, Mrs. Jacques Heath (Lily May Peel)</td>\n",
       "      <td>female</td>\n",
       "      <td>35.0</td>\n",
       "      <td>1</td>\n",
       "      <td>0</td>\n",
       "      <td>113803</td>\n",
       "      <td>53.1000</td>\n",
       "      <td>1</td>\n",
       "      <td>S</td>\n",
       "      <td>2.0</td>\n",
       "    </tr>\n",
       "    <tr>\n",
       "      <th>4</th>\n",
       "      <td>5</td>\n",
       "      <td>0</td>\n",
       "      <td>3</td>\n",
       "      <td>Allen, Mr. William Henry</td>\n",
       "      <td>male</td>\n",
       "      <td>35.0</td>\n",
       "      <td>0</td>\n",
       "      <td>0</td>\n",
       "      <td>373450</td>\n",
       "      <td>8.0500</td>\n",
       "      <td>0</td>\n",
       "      <td>S</td>\n",
       "      <td>1.0</td>\n",
       "    </tr>\n",
       "    <tr>\n",
       "      <th>...</th>\n",
       "      <td>...</td>\n",
       "      <td>...</td>\n",
       "      <td>...</td>\n",
       "      <td>...</td>\n",
       "      <td>...</td>\n",
       "      <td>...</td>\n",
       "      <td>...</td>\n",
       "      <td>...</td>\n",
       "      <td>...</td>\n",
       "      <td>...</td>\n",
       "      <td>...</td>\n",
       "      <td>...</td>\n",
       "      <td>...</td>\n",
       "    </tr>\n",
       "    <tr>\n",
       "      <th>886</th>\n",
       "      <td>887</td>\n",
       "      <td>0</td>\n",
       "      <td>2</td>\n",
       "      <td>Montvila, Rev. Juozas</td>\n",
       "      <td>male</td>\n",
       "      <td>27.0</td>\n",
       "      <td>0</td>\n",
       "      <td>0</td>\n",
       "      <td>211536</td>\n",
       "      <td>13.0000</td>\n",
       "      <td>0</td>\n",
       "      <td>S</td>\n",
       "      <td>NaN</td>\n",
       "    </tr>\n",
       "    <tr>\n",
       "      <th>887</th>\n",
       "      <td>888</td>\n",
       "      <td>1</td>\n",
       "      <td>1</td>\n",
       "      <td>Graham, Miss. Margaret Edith</td>\n",
       "      <td>female</td>\n",
       "      <td>19.0</td>\n",
       "      <td>0</td>\n",
       "      <td>0</td>\n",
       "      <td>112053</td>\n",
       "      <td>30.0000</td>\n",
       "      <td>1</td>\n",
       "      <td>S</td>\n",
       "      <td>3.0</td>\n",
       "    </tr>\n",
       "    <tr>\n",
       "      <th>888</th>\n",
       "      <td>889</td>\n",
       "      <td>0</td>\n",
       "      <td>3</td>\n",
       "      <td>Johnston, Miss. Catherine Helen \"Carrie\"</td>\n",
       "      <td>female</td>\n",
       "      <td>NaN</td>\n",
       "      <td>1</td>\n",
       "      <td>2</td>\n",
       "      <td>W./C. 6607</td>\n",
       "      <td>23.4500</td>\n",
       "      <td>0</td>\n",
       "      <td>S</td>\n",
       "      <td>3.0</td>\n",
       "    </tr>\n",
       "    <tr>\n",
       "      <th>889</th>\n",
       "      <td>890</td>\n",
       "      <td>1</td>\n",
       "      <td>1</td>\n",
       "      <td>Behr, Mr. Karl Howell</td>\n",
       "      <td>male</td>\n",
       "      <td>26.0</td>\n",
       "      <td>0</td>\n",
       "      <td>0</td>\n",
       "      <td>111369</td>\n",
       "      <td>30.0000</td>\n",
       "      <td>1</td>\n",
       "      <td>C</td>\n",
       "      <td>1.0</td>\n",
       "    </tr>\n",
       "    <tr>\n",
       "      <th>890</th>\n",
       "      <td>891</td>\n",
       "      <td>0</td>\n",
       "      <td>3</td>\n",
       "      <td>Dooley, Mr. Patrick</td>\n",
       "      <td>male</td>\n",
       "      <td>32.0</td>\n",
       "      <td>0</td>\n",
       "      <td>0</td>\n",
       "      <td>370376</td>\n",
       "      <td>7.7500</td>\n",
       "      <td>0</td>\n",
       "      <td>Q</td>\n",
       "      <td>1.0</td>\n",
       "    </tr>\n",
       "  </tbody>\n",
       "</table>\n",
       "<p>891 rows × 13 columns</p>\n",
       "</div>"
      ],
      "text/plain": [
       "     PassengerId  Survived  Pclass  \\\n",
       "0              1         0       3   \n",
       "1              2         1       1   \n",
       "2              3         1       3   \n",
       "3              4         1       1   \n",
       "4              5         0       3   \n",
       "..           ...       ...     ...   \n",
       "886          887         0       2   \n",
       "887          888         1       1   \n",
       "888          889         0       3   \n",
       "889          890         1       1   \n",
       "890          891         0       3   \n",
       "\n",
       "                                                  Name     Sex   Age  SibSp  \\\n",
       "0                              Braund, Mr. Owen Harris    male  22.0      1   \n",
       "1    Cumings, Mrs. John Bradley (Florence Briggs Th...  female  38.0      1   \n",
       "2                               Heikkinen, Miss. Laina  female  26.0      0   \n",
       "3         Futrelle, Mrs. Jacques Heath (Lily May Peel)  female  35.0      1   \n",
       "4                             Allen, Mr. William Henry    male  35.0      0   \n",
       "..                                                 ...     ...   ...    ...   \n",
       "886                              Montvila, Rev. Juozas    male  27.0      0   \n",
       "887                       Graham, Miss. Margaret Edith  female  19.0      0   \n",
       "888           Johnston, Miss. Catherine Helen \"Carrie\"  female   NaN      1   \n",
       "889                              Behr, Mr. Karl Howell    male  26.0      0   \n",
       "890                                Dooley, Mr. Patrick    male  32.0      0   \n",
       "\n",
       "     Parch            Ticket     Fare  Cabin Embarked  NameTitles  \n",
       "0        0         A/5 21171   7.2500      0        S         1.0  \n",
       "1        0          PC 17599  71.2833      1        C         2.0  \n",
       "2        0  STON/O2. 3101282   7.9250      0        S         3.0  \n",
       "3        0            113803  53.1000      1        S         2.0  \n",
       "4        0            373450   8.0500      0        S         1.0  \n",
       "..     ...               ...      ...    ...      ...         ...  \n",
       "886      0            211536  13.0000      0        S         NaN  \n",
       "887      0            112053  30.0000      1        S         3.0  \n",
       "888      2        W./C. 6607  23.4500      0        S         3.0  \n",
       "889      0            111369  30.0000      1        C         1.0  \n",
       "890      0            370376   7.7500      0        Q         1.0  \n",
       "\n",
       "[891 rows x 13 columns]"
      ]
     },
     "execution_count": 544,
     "metadata": {},
     "output_type": "execute_result"
    }
   ],
   "source": [
    "df"
   ]
  },
  {
   "cell_type": "code",
   "execution_count": 545,
   "metadata": {},
   "outputs": [
    {
     "data": {
      "text/plain": [
       "Cabin\n",
       "0    0.771044\n",
       "1    0.228956\n",
       "Name: proportion, dtype: float64"
      ]
     },
     "execution_count": 545,
     "metadata": {},
     "output_type": "execute_result"
    }
   ],
   "source": [
    "df['Cabin'].value_counts(normalize=True)"
   ]
  },
  {
   "cell_type": "code",
   "execution_count": 546,
   "metadata": {},
   "outputs": [
    {
     "data": {
      "text/plain": [
       "Cabin  Survived\n",
       "0      0           0.700146\n",
       "       1           0.299854\n",
       "1      1           0.666667\n",
       "       0           0.333333\n",
       "Name: proportion, dtype: float64"
      ]
     },
     "execution_count": 546,
     "metadata": {},
     "output_type": "execute_result"
    }
   ],
   "source": [
    "df.groupby('Cabin')['Survived'].value_counts(normalize=True)"
   ]
  },
  {
   "cell_type": "code",
   "execution_count": 547,
   "metadata": {},
   "outputs": [
    {
     "data": {
      "image/png": "[encoded data removed]",
      "text/plain": [
       "<Figure size 1000x600 with 1 Axes>"
      ]
     },
     "metadata": {},
     "output_type": "display_data"
    }
   ],
   "source": [
    "survival_ratio = df.groupby('Cabin')['Survived'].value_counts(normalize=True).unstack().fillna(0)\n",
    "\n",
    "# Reset index and reshape data for Seaborn\n",
    "survival_ratio.reset_index(inplace=True)\n",
    "survival_ratio = survival_ratio.melt(id_vars=['Cabin'], value_vars=[0, 1], var_name='Survived', value_name='Survival Ratio')\n",
    "\n",
    "# Enlarge the figure\n",
    "plt.figure(figsize=(10, 6))\n",
    "\n",
    "# Plot the survival ratio using Seaborn\n",
    "sns.barplot(data=survival_ratio, x='Cabin', y='Survival Ratio', hue='Survived', palette='pastel')#,legend='auto')\n",
    "plt.title('Cabin Titanic')\n",
    "plt.xlabel('Cabin')\n",
    "plt.ylabel('Survival Ratio %')\n",
    "plt.legend(['Not Survived', 'Survived'], loc='upper right')#, facecolor='lightgrey')  # Changing legend facecolor\n",
    "plt.xticks(rotation=0)\n",
    "plt.show()"
   ]
  },
  {
   "cell_type": "markdown",
   "metadata": {},
   "source": [
    "#### 10.\tWhat was the survival rate among passengers with missing data (e.g., missing age or cabin information)?\n",
    "- Analyze the survival rates of passengers with missing data in various fields.\n"
   ]
  },
  {
   "cell_type": "code",
   "execution_count": 548,
   "metadata": {},
   "outputs": [
    {
     "data": {
      "text/plain": [
       "PassengerId      0\n",
       "Survived         0\n",
       "Pclass           0\n",
       "Name             0\n",
       "Sex              0\n",
       "Age            177\n",
       "SibSp            0\n",
       "Parch            0\n",
       "Ticket           0\n",
       "Fare             0\n",
       "Cabin            0\n",
       "Embarked         2\n",
       "NameTitles      67\n",
       "dtype: int64"
      ]
     },
     "execution_count": 548,
     "metadata": {},
     "output_type": "execute_result"
    }
   ],
   "source": [
    "# import numpy as np\n",
    "df[df.isna().any(axis=1)].isnull().sum()"
   ]
  },
  {
   "cell_type": "markdown",
   "metadata": {},
   "source": [
    "- Embarked column"
   ]
  },
  {
   "cell_type": "code",
   "execution_count": 549,
   "metadata": {},
   "outputs": [],
   "source": [
    "df['Embarked'] = df['Embarked'].replace(['S', 'Q', 'C'], [1, 2, 3])"
   ]
  },
  {
   "cell_type": "code",
   "execution_count": 550,
   "metadata": {},
   "outputs": [
    {
     "data": {
      "text/plain": [
       "2"
      ]
     },
     "execution_count": 550,
     "metadata": {},
     "output_type": "execute_result"
    }
   ],
   "source": [
    "df.Embarked.isna().sum()"
   ]
  },
  {
   "cell_type": "code",
   "execution_count": 557,
   "metadata": {},
   "outputs": [],
   "source": [
    "df.Embarked.fillna(0,inplace=True)"
   ]
  },
  {
   "cell_type": "code",
   "execution_count": 558,
   "metadata": {},
   "outputs": [
    {
     "data": {
      "text/plain": [
       "0"
      ]
     },
     "execution_count": 558,
     "metadata": {},
     "output_type": "execute_result"
    }
   ],
   "source": [
    "df.Embarked.isna().sum()"
   ]
  },
  {
   "cell_type": "code",
   "execution_count": 570,
   "metadata": {},
   "outputs": [
    {
     "data": {
      "text/plain": [
       "Embarked\n",
       "1.0    644\n",
       "3.0    168\n",
       "2.0     77\n",
       "0.0      2\n",
       "Name: count, dtype: int64"
      ]
     },
     "execution_count": 570,
     "metadata": {},
     "output_type": "execute_result"
    }
   ],
   "source": [
    "df.Embarked.value_counts()"
   ]
  },
  {
   "cell_type": "code",
   "execution_count": 571,
   "metadata": {},
   "outputs": [
    {
     "data": {
      "text/html": [
       "<div>\n",
       "<style scoped>\n",
       "    .dataframe tbody tr th:only-of-type {\n",
       "        vertical-align: middle;\n",
       "    }\n",
       "\n",
       "    .dataframe tbody tr th {\n",
       "        vertical-align: top;\n",
       "    }\n",
       "\n",
       "    .dataframe thead th {\n",
       "        text-align: right;\n",
       "    }\n",
       "</style>\n",
       "<table border=\"1\" class=\"dataframe\">\n",
       "  <thead>\n",
       "    <tr style=\"text-align: right;\">\n",
       "      <th></th>\n",
       "      <th>PassengerId</th>\n",
       "      <th>Survived</th>\n",
       "      <th>Pclass</th>\n",
       "      <th>Name</th>\n",
       "      <th>Sex</th>\n",
       "      <th>Age</th>\n",
       "      <th>SibSp</th>\n",
       "      <th>Parch</th>\n",
       "      <th>Ticket</th>\n",
       "      <th>Fare</th>\n",
       "      <th>Cabin</th>\n",
       "      <th>Embarked</th>\n",
       "      <th>NameTitles</th>\n",
       "    </tr>\n",
       "  </thead>\n",
       "  <tbody>\n",
       "    <tr>\n",
       "      <th>61</th>\n",
       "      <td>62</td>\n",
       "      <td>1</td>\n",
       "      <td>1</td>\n",
       "      <td>Icard, Miss. Amelie</td>\n",
       "      <td>female</td>\n",
       "      <td>38.0</td>\n",
       "      <td>0</td>\n",
       "      <td>0</td>\n",
       "      <td>113572</td>\n",
       "      <td>80.0</td>\n",
       "      <td>1</td>\n",
       "      <td>0.0</td>\n",
       "      <td>3.0</td>\n",
       "    </tr>\n",
       "    <tr>\n",
       "      <th>829</th>\n",
       "      <td>830</td>\n",
       "      <td>1</td>\n",
       "      <td>1</td>\n",
       "      <td>Stone, Mrs. George Nelson (Martha Evelyn)</td>\n",
       "      <td>female</td>\n",
       "      <td>62.0</td>\n",
       "      <td>0</td>\n",
       "      <td>0</td>\n",
       "      <td>113572</td>\n",
       "      <td>80.0</td>\n",
       "      <td>1</td>\n",
       "      <td>0.0</td>\n",
       "      <td>2.0</td>\n",
       "    </tr>\n",
       "  </tbody>\n",
       "</table>\n",
       "</div>"
      ],
      "text/plain": [
       "     PassengerId  Survived  Pclass                                       Name  \\\n",
       "61            62         1       1                        Icard, Miss. Amelie   \n",
       "829          830         1       1  Stone, Mrs. George Nelson (Martha Evelyn)   \n",
       "\n",
       "        Sex   Age  SibSp  Parch  Ticket  Fare  Cabin  Embarked  NameTitles  \n",
       "61   female  38.0      0      0  113572  80.0      1       0.0         3.0  \n",
       "829  female  62.0      0      0  113572  80.0      1       0.0         2.0  "
      ]
     },
     "execution_count": 571,
     "metadata": {},
     "output_type": "execute_result"
    }
   ],
   "source": [
    "nullembarked = df[df.Embarked == 0]\n",
    "nullembarked"
   ]
  },
  {
   "cell_type": "code",
   "execution_count": 575,
   "metadata": {},
   "outputs": [
    {
     "data": {
      "text/plain": [
       "Embarked  Survived\n",
       "0.0       1           100.0\n",
       "Name: proportion, dtype: float64"
      ]
     },
     "execution_count": 575,
     "metadata": {},
     "output_type": "execute_result"
    }
   ],
   "source": [
    "nullembarked.groupby('Embarked')['Survived'].value_counts(normalize=True)*100"
   ]
  },
  {
   "cell_type": "code",
   "execution_count": 573,
   "metadata": {},
   "outputs": [
    {
     "data": {
      "image/png": "[encoded data removed]",
      "text/plain": [
       "<Figure size 1000x600 with 1 Axes>"
      ]
     },
     "metadata": {},
     "output_type": "display_data"
    }
   ],
   "source": [
    "# Calculate survival ratio\n",
    "survival_ratio = nullembarked.groupby('Embarked')['Survived'].value_counts(normalize=True).unstack().fillna(0)\n",
    "\n",
    "# Reset index and reshape data for Seaborn\n",
    "survival_ratio.reset_index(inplace=True)\n",
    "\n",
    "# Rename columns for clarity\n",
    "survival_ratio.rename(columns={0: 'Not Survived', 1: 'Survived'}, inplace=True)\n",
    "\n",
    "# Enlarge the figure\n",
    "plt.figure(figsize=(10, 6))\n",
    "\n",
    "# Plot the survival ratio using Seaborn\n",
    "sns.barplot(data=survival_ratio, x='Embarked', y='Survived', palette='pastel')\n",
    "plt.title('Survival Ratio by Embarked')\n",
    "plt.xlabel('Embarked')\n",
    "plt.ylabel('Survival Ratio (%)')\n",
    "plt.xticks(rotation=0)\n",
    "plt.show()"
   ]
  },
  {
   "cell_type": "markdown",
   "metadata": {},
   "source": [
    "- lets fill na with 0 Age"
   ]
  },
  {
   "cell_type": "code",
   "execution_count": 563,
   "metadata": {},
   "outputs": [],
   "source": [
    "df.Age.fillna(0,inplace=True)"
   ]
  },
  {
   "cell_type": "code",
   "execution_count": 566,
   "metadata": {},
   "outputs": [],
   "source": [
    "nullage = df[df.Age == 0]"
   ]
  },
  {
   "cell_type": "code",
   "execution_count": 567,
   "metadata": {},
   "outputs": [
    {
     "data": {
      "image/png": "[encoded data removed]",
      "text/plain": [
       "<Figure size 1000x600 with 1 Axes>"
      ]
     },
     "metadata": {},
     "output_type": "display_data"
    }
   ],
   "source": [
    "survival_ratio = nullage.groupby('Age')['Survived'].value_counts(normalize=True).unstack().fillna(0)\n",
    "\n",
    "# Reset index and reshape data for Seaborn\n",
    "survival_ratio.reset_index(inplace=True)\n",
    "survival_ratio = survival_ratio.melt(id_vars=['Age'], value_vars=[0, 1], var_name='Survived', value_name='Survival Ratio')\n",
    "\n",
    "# Enlarge the figure\n",
    "plt.figure(figsize=(10, 6))\n",
    "\n",
    "# Plot the survival ratio using Seaborn\n",
    "sns.barplot(data=survival_ratio, x='Age', y='Survival Ratio', hue='Survived', palette='pastel')#,legend='auto')\n",
    "plt.title('count')\n",
    "plt.xlabel('Age')\n",
    "plt.ylabel('Survival Ratio %')\n",
    "plt.legend(['Not Survived', 'Survived'], loc='upper right')#, facecolor='lightgrey')  # Changing legend facecolor\n",
    "plt.xticks(rotation=0)\n",
    "plt.show()"
   ]
  },
  {
   "cell_type": "code",
   "execution_count": 576,
   "metadata": {},
   "outputs": [
    {
     "data": {
      "text/plain": [
       "NameTitles\n",
       "1.0    517\n",
       "3.0    182\n",
       "2.0    125\n",
       "Name: count, dtype: int64"
      ]
     },
     "execution_count": 576,
     "metadata": {},
     "output_type": "execute_result"
    }
   ],
   "source": [
    "df.NameTitles.value_counts()"
   ]
  },
  {
   "cell_type": "code",
   "execution_count": 577,
   "metadata": {},
   "outputs": [],
   "source": [
    "df.NameTitles.fillna(0,inplace=True)"
   ]
  },
  {
   "cell_type": "code",
   "execution_count": 578,
   "metadata": {},
   "outputs": [
    {
     "data": {
      "text/plain": [
       "NameTitles\n",
       "1.0    517\n",
       "3.0    182\n",
       "2.0    125\n",
       "0.0     67\n",
       "Name: count, dtype: int64"
      ]
     },
     "execution_count": 578,
     "metadata": {},
     "output_type": "execute_result"
    }
   ],
   "source": [
    "df.NameTitles.value_counts()"
   ]
  },
  {
   "cell_type": "code",
   "execution_count": 579,
   "metadata": {},
   "outputs": [],
   "source": [
    "nullNameTitles = df[df.NameTitles == 0]"
   ]
  },
  {
   "cell_type": "code",
   "execution_count": 580,
   "metadata": {},
   "outputs": [
    {
     "data": {
      "image/png": "[encoded data removed]",
      "text/plain": [
       "<Figure size 1000x600 with 1 Axes>"
      ]
     },
     "metadata": {},
     "output_type": "display_data"
    }
   ],
   "source": [
    "survival_ratio = nullNameTitles.groupby('NameTitles')['Survived'].value_counts(normalize=True).unstack().fillna(0)\n",
    "\n",
    "# Reset index and reshape data for Seaborn\n",
    "survival_ratio.reset_index(inplace=True)\n",
    "survival_ratio = survival_ratio.melt(id_vars=['NameTitles'], value_vars=[0, 1], var_name='Survived', value_name='Survival Ratio')\n",
    "\n",
    "# Enlarge the figure\n",
    "plt.figure(figsize=(10, 6))\n",
    "\n",
    "# Plot the survival ratio using Seaborn\n",
    "sns.barplot(data=survival_ratio, x='NameTitles', y='Survival Ratio', hue='Survived', palette='pastel')#,legend='auto')\n",
    "plt.title('Count')\n",
    "plt.xlabel('NameTitles')\n",
    "plt.ylabel('Survival Ratio %')\n",
    "plt.legend(['Not Survived', 'Survived'], loc='upper right')#, facecolor='lightgrey')  # Changing legend facecolor\n",
    "plt.xticks(rotation=0)\n",
    "plt.show()"
   ]
  }
 ],
 "metadata": {
  "kernelspec": {
   "display_name": "Python 3",
   "language": "python",
   "name": "python3"
  },
  "language_info": {
   "codemirror_mode": {
    "name": "ipython",
    "version": 3
   },
   "file_extension": ".py",
   "mimetype": "text/x-python",
   "name": "python",
   "nbconvert_exporter": "python",
   "pygments_lexer": "ipython3",
   "version": "3.10.0"
  }
 },
 "nbformat": 4,
 "nbformat_minor": 2
}
